{
 "cells": [
  {
   "cell_type": "markdown",
   "metadata": {},
   "source": [
    "### Code to accompany Module 5: Recursion"
   ]
  },
  {
   "cell_type": "code",
   "execution_count": null,
   "metadata": {},
   "outputs": [],
   "source": [
    "def factorial(n):\n",
    "    if n == 0:\n",
    "        return 1\n",
    "    return n * factorial(n-1)"
   ]
  },
  {
   "cell_type": "code",
   "execution_count": null,
   "metadata": {},
   "outputs": [],
   "source": [
    "# Test this out\n",
    "factorial(3)"
   ]
  },
  {
   "cell_type": "code",
   "execution_count": null,
   "metadata": {},
   "outputs": [],
   "source": [
    "def inc(x):\n",
    "    return x + 1\n",
    "\n",
    "def incThenDouble(x):\n",
    "    return 2 * inc(x)\n",
    "\n",
    "def justDoIt(x):\n",
    "    return incThenDouble(x)\n",
    "\n",
    "justDoIt(4)"
   ]
  },
  {
   "cell_type": "markdown",
   "metadata": {},
   "source": [
    "### Sum of integers up to n"
   ]
  },
  {
   "cell_type": "code",
   "execution_count": null,
   "metadata": {},
   "outputs": [],
   "source": [
    "def sumToN_recur(n):\n",
    "    if n == 0:\n",
    "        return 0\n",
    "    return n + sumToN_recur(n-1)"
   ]
  },
  {
   "cell_type": "code",
   "execution_count": null,
   "metadata": {},
   "outputs": [],
   "source": [
    "def sumToN_iter(n):\n",
    "    sum = 0\n",
    "    for i in range(1,n+1):\n",
    "        sum += i\n",
    "    return sum"
   ]
  },
  {
   "cell_type": "markdown",
   "metadata": {},
   "source": [
    "### Calculating Fibonacci Numbers"
   ]
  },
  {
   "cell_type": "code",
   "execution_count": 7,
   "metadata": {},
   "outputs": [],
   "source": [
    "def fib(k):\n",
    "    if k == 0:\n",
    "        return 0\n",
    "    if k == 1:\n",
    "        return 1\n",
    "    return fib(k-1) + fib(k-2)"
   ]
  },
  {
   "cell_type": "code",
   "execution_count": null,
   "metadata": {},
   "outputs": [],
   "source": [
    "fib(40)"
   ]
  },
  {
   "cell_type": "markdown",
   "metadata": {},
   "source": [
    "### Minimum Number of Coins: Greedy"
   ]
  },
  {
   "cell_type": "code",
   "execution_count": 3,
   "metadata": {},
   "outputs": [],
   "source": [
    "def minCoinChangeGreedy(coinValues, amount):\n",
    "    coinValues.sort(reverse = True)\n",
    "    numCoins = 0\n",
    "    for c in coinValues:\n",
    "        # Use as many coins as possible\n",
    "        numCoins += amount // c\n",
    "        # Update the amount of change left\n",
    "        amount = amount % c\n",
    "    return numCoins"
   ]
  },
  {
   "cell_type": "code",
   "execution_count": null,
   "metadata": {},
   "outputs": [],
   "source": [
    "# Test this out\n",
    "print(minCoinChangeGreedy([1,5,10,25], 36))\n",
    "print(minCoinChangeGreedy([1,5,10,25], 63))\n",
    "print(minCoinChangeGreedy([1,5,21,25], 63))"
   ]
  },
  {
   "cell_type": "markdown",
   "metadata": {},
   "source": [
    "### Minimum Number of Coins: Recursive"
   ]
  },
  {
   "cell_type": "code",
   "execution_count": 1,
   "metadata": {},
   "outputs": [],
   "source": [
    "def minCoinChange(coinValues, amount):\n",
    "    # base case\n",
    "    if amount in coinValues:\n",
    "        return 1\n",
    "    \n",
    "    # recursive case\n",
    "    minCoins = float(\"inf\")\n",
    "    usableCoins = [c for c in coinValues if c <= amount]\n",
    "    for i in usableCoins:\n",
    "        numCoins = 1 + minCoinChange(coinValues, amount - i)\n",
    "    \n",
    "        # return the minimum coins needed\n",
    "        if numCoins < minCoins:\n",
    "            minCoins = numCoins\n",
    "    return minCoins"
   ]
  },
  {
   "cell_type": "code",
   "execution_count": null,
   "metadata": {},
   "outputs": [],
   "source": [
    "# Test this out\n",
    "print(minCoinChange([1,5,10,25], 36))\n",
    "print(minCoinChange([1,5,10,25], 63))\n",
    "print(minCoinChange([1,5,21,25], 63))"
   ]
  },
  {
   "cell_type": "markdown",
   "metadata": {},
   "source": [
    "### Fibonacci: Memoization"
   ]
  },
  {
   "cell_type": "code",
   "execution_count": 6,
   "metadata": {},
   "outputs": [],
   "source": [
    "def fibMemo(k, cache={0:0, 1:1}):\n",
    "    if k not in cache:\n",
    "        cache[k] = fibMemo(k-1, cache) + fibMemo(k-2, cache)\n",
    "    return cache[k]"
   ]
  },
  {
   "cell_type": "code",
   "execution_count": null,
   "metadata": {},
   "outputs": [],
   "source": [
    "# Test\n",
    "fibMemo(40)"
   ]
  },
  {
   "cell_type": "markdown",
   "metadata": {},
   "source": [
    "### Fibonacci: Tabulation"
   ]
  },
  {
   "cell_type": "code",
   "execution_count": 17,
   "metadata": {},
   "outputs": [],
   "source": [
    "def fibTab(k):\n",
    "    fib = {0:0, 1:1}\n",
    "    i = 2\n",
    "    while i <= k:\n",
    "        fib[i] = fib[i-1] + fib[i-2]\n",
    "        i += 1\n",
    "    return fib[k]"
   ]
  },
  {
   "cell_type": "code",
   "execution_count": null,
   "metadata": {},
   "outputs": [],
   "source": [
    "# Test\n",
    "fibTab(40)"
   ]
  },
  {
   "cell_type": "markdown",
   "metadata": {},
   "source": [
    "### Minimum Number of Coins: Memoization"
   ]
  },
  {
   "cell_type": "code",
   "execution_count": null,
   "metadata": {},
   "outputs": [],
   "source": [
    "def minCoinChangeMemo(coinValues, amount, cache=None):\n",
    "    # set up cache with base cases\n",
    "    if cache is None:\n",
    "        cache = {c:1 for c in coinValues}\n",
    "\n",
    "    # if the amount has already been computed, return the answer\n",
    "    if amount in cache:\n",
    "        return cache[amount]\n",
    "    \n",
    "    # otherwise compute the value and cache it\n",
    "    minCoins = float(\"inf\")\n",
    "    usableCoins = [c for c in coinValues if c <= amount]\n",
    "    for i in usableCoins:\n",
    "        numCoins = 1 + minCoinChangeMemo(coinValues, amount - i ,cache)\n",
    "        if numCoins < minCoins:\n",
    "            minCoins = numCoins\n",
    "            cache[amount] = minCoins\n",
    "    return minCoins\n"
   ]
  },
  {
   "cell_type": "code",
   "execution_count": null,
   "metadata": {},
   "outputs": [],
   "source": [
    "# Test this out\n",
    "print(minCoinChangeMemo([1,5,10,25], 36))\n",
    "print(minCoinChangeMemo([1,5,10,25], 63))\n",
    "print(minCoinChangeMemo([1,5,21,25], 63))"
   ]
  },
  {
   "cell_type": "markdown",
   "metadata": {},
   "source": [
    "### Minimum Number of Coins: Tabulation"
   ]
  },
  {
   "cell_type": "code",
   "execution_count": 22,
   "metadata": {},
   "outputs": [],
   "source": [
    "def minCoinChangeDP(coinValues, amount):\n",
    "    minCoins = {0:0}\n",
    "    for cents in range(1, amount + 1):\n",
    "        minCoins[cents] = float(\"inf\")\n",
    "        for c in coinValues:\n",
    "            if c <= cents:\n",
    "                minCoins[cents] = min(minCoins[cents], 1 + minCoins[cents - c])\n",
    "    return minCoins[amount]"
   ]
  },
  {
   "cell_type": "code",
   "execution_count": null,
   "metadata": {},
   "outputs": [],
   "source": [
    "# Test this out\n",
    "print(minCoinChangeDP([1,5,10,25], 36))\n",
    "print(minCoinChangeDP([1,5,10,25], 63))\n",
    "print(minCoinChangeDP([1,5,21,25], 63))"
   ]
  },
  {
   "cell_type": "code",
   "execution_count": null,
   "metadata": {},
   "outputs": [],
   "source": []
  }
 ],
 "metadata": {
  "kernelspec": {
   "display_name": "base",
   "language": "python",
   "name": "python3"
  },
  "language_info": {
   "codemirror_mode": {
    "name": "ipython",
    "version": 3
   },
   "file_extension": ".py",
   "mimetype": "text/x-python",
   "name": "python",
   "nbconvert_exporter": "python",
   "pygments_lexer": "ipython3",
   "version": "3.11.5"
  }
 },
 "nbformat": 4,
 "nbformat_minor": 2
}
