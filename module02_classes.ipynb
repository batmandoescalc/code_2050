{
 "cells": [
  {
   "cell_type": "markdown",
   "metadata": {},
   "source": [
    "### Code to accompany Module 2: Object-Oriented Programming and Testing"
   ]
  },
  {
   "cell_type": "code",
   "execution_count": 7,
   "metadata": {},
   "outputs": [],
   "source": [
    "# for each mascot record, list its name, description, and participating events\n",
    "jonathan = [\"Jonathan\", \"husky\", \"mbb_butler_0121\", \"wbb_villanova_0122\", \"mhockey_quinnipiac_0124\"]\n",
    "\n",
    "def get_name(mascot):\n",
    "    return mascot[0]\n",
    "def description(mascot):\n",
    "    return mascot[1]\n",
    "def get_events(mascot):\n",
    "    return mascot[2:]"
   ]
  },
  {
   "cell_type": "code",
   "execution_count": 4,
   "metadata": {},
   "outputs": [],
   "source": [
    "# do these functions work?"
   ]
  },
  {
   "cell_type": "code",
   "execution_count": 8,
   "metadata": {},
   "outputs": [],
   "source": [
    "# let's add fields for school colors\n",
    "jonathan = [\"Jonathan\", \"husky\", \"blue\", \"white\", \n",
    "            \"mbb_butler_0121\", \"wbb_villanova_0122\", \"mhockey_quinnipiac_0124\"]\n",
    "\n",
    "def get_name(mascot):\n",
    "    return mascot[0]\n",
    "def description(mascot):\n",
    "    return mascot[1]\n",
    "def get_events(mascot):\n",
    "    return mascot[2:]"
   ]
  },
  {
   "cell_type": "code",
   "execution_count": 1,
   "metadata": {},
   "outputs": [],
   "source": [
    "# we can define a class instead\n",
    "class mascot:\n",
    "    def __init__(self, name, description, colors=(), events=()):\n",
    "        self.name = name\n",
    "        self.description = description\n",
    "        self.colors = [i for i in colors]\n",
    "        self._events = [i for i in events]"
   ]
  },
  {
   "cell_type": "code",
   "execution_count": 2,
   "metadata": {},
   "outputs": [
    {
     "name": "stdout",
     "output_type": "stream",
     "text": [
      "Jonathan\n",
      "husky\n",
      "['blue', 'white']\n",
      "['mbb_butler_0121', 'wbb_villanova_0122', 'mhockey_quinnipiac_0124']\n"
     ]
    }
   ],
   "source": [
    "# now we'll construct the record for jonathan according to the class structure\n",
    "jonathan = mascot(\"Jonathan\", \"husky\", [\"blue\", \"white\"], \n",
    "            [\"mbb_butler_0121\", \"wbb_villanova_0122\", \"mhockey_quinnipiac_0124\"])\n",
    "\n",
    "# return the components\n",
    "print(jonathan.name)\n",
    "print(jonathan.description)\n",
    "print(jonathan.colors)\n",
    "print(jonathan._events)\n"
   ]
  },
  {
   "cell_type": "code",
   "execution_count": null,
   "metadata": {},
   "outputs": [],
   "source": [
    "# what happens when we try to print the whole object?\n",
    "jonathan = mascot(\"Jonathan\", \"husky\", [\"blue\", \"white\"], \n",
    "            [\"mbb_butler_0121\", \"wbb_villanova_0122\", \"mhockey_quinnipiac_0124\"])\n",
    "\n",
    "print(jonathan)"
   ]
  },
  {
   "cell_type": "code",
   "execution_count": 16,
   "metadata": {},
   "outputs": [],
   "source": [
    "# we can set up a method to help with this\n",
    "class mascot:\n",
    "    def __init__(self, name, description, colors=(), events=()):\n",
    "        self.name = name\n",
    "        self.description = description\n",
    "        self.colors = [i for i in colors]\n",
    "        self._events = [i for i in events]\n",
    "    def __str__(self):\n",
    "        return f\"Mascot: {self.name} the {self.description}\""
   ]
  },
  {
   "cell_type": "code",
   "execution_count": null,
   "metadata": {},
   "outputs": [],
   "source": [
    "# did that work?\n",
    "jonathan = mascot(\"Jonathan\", \"husky\", [\"blue\", \"white\"], \n",
    "            [\"mbb_butler_0121\", \"wbb_villanova_0122\", \"mhockey_quinnipiac_0124\"])\n",
    "\n",
    "print(jonathan)"
   ]
  },
  {
   "cell_type": "markdown",
   "metadata": {},
   "source": [
    "### Create a `Car` Class\n",
    "\n",
    "### Requirements:\n",
    "\n",
    "1. **Attributes**:\n",
    "   - `make`: The car's manufacturer (e.g., \"Toyota\").\n",
    "   - `model`: The specific model of the car (e.g., \"Corolla\").\n",
    "   - `year`: The year the car was manufactured (e.g., 2020).\n",
    "   - `is_running`: A boolean attribute that tracks whether the car is running or not (initially set to `False`).\n",
    "\n",
    "2. **Methods**:\n",
    "   - `start()`: If the car is not already running, this method should set `is_running` to `True` and print a message like `\"The [make] [model] is now running!\"`.\n",
    "   - `stop()`: If the car is running, this method should set `is_running` to `False` and print a message like `\"The [make] [model] has stopped.\"`.\n",
    "   - `__str__()`: This method should print the car's information in the format: `\"Year: [year], Make: [make], Model: [model]\"`.\n"
   ]
  },
  {
   "cell_type": "code",
   "execution_count": 9,
   "metadata": {},
   "outputs": [],
   "source": [
    "class Car:\n",
    "    def __init__(self, make, model, year, is_running=False):\n",
    "        self.make = make\n",
    "        self.model = model\n",
    "        self.year = year\n",
    "        self.is_running = is_running    \n",
    "\n",
    "    def start(self):\n",
    "        \"\"\"\n",
    "        Starts the car if not currently running\n",
    "        and prints a message about its status\n",
    "        \"\"\"\n",
    "        if self.is_running == False:\n",
    "            self.is_running = True\n",
    "            print(f\"The {self.make} {self.model} is now running\")\n",
    "        else:\n",
    "            print(f\"The {self.make} {self.model} is already running!\")\n",
    "\n",
    "    def stop(self):\n",
    "        \"\"\"\n",
    "        Turns the car off if currently running\n",
    "        and prints a message about its status\n",
    "        \"\"\"\n",
    "        if self.is_running == True:\n",
    "            self.is_running = False\n",
    "            print(f\"The {self.make} {self.model} is now off\")\n",
    "        else:\n",
    "            print(f\"The {self.make} {self.model} is already off!\")"
   ]
  },
  {
   "cell_type": "markdown",
   "metadata": {},
   "source": [
    "### Encapsulation\n",
    "\n",
    "### Additional Requirements:\n",
    "\n",
    "1. **Attribute**:\n",
    "   - `_num_starts`: An integer that stores the number of time the car has been started. Initializes at 0.\n",
    "\n",
    "\n",
    "2. **Method**:\n",
    "   - `_check_starter_health()`: Returns `True` if `_num_starts` is less than 5000.\n",
    "   \n",
    "3. **Other**:\n",
    "   - `start()`: Update to use `_check_starter_health()`. If `False` is returned, the car should not start, and a message should print that it \"won't turn over.\"\n"
   ]
  },
  {
   "cell_type": "code",
   "execution_count": 10,
   "metadata": {},
   "outputs": [],
   "source": [
    "# Make changes here:\n",
    "class Car:\n",
    "    def __init__(self, make, model, year, is_running=False):\n",
    "        self.make = make\n",
    "        self.model = model\n",
    "        self.year = year\n",
    "        self.is_running = is_running    \n",
    "\n",
    "    def start(self):\n",
    "        \"\"\"\n",
    "        Starts the car if not currently running\n",
    "        and prints a message about its status\n",
    "        \"\"\"\n",
    "        if self.is_running == False:\n",
    "            self.is_running = True\n",
    "            print(f\"The {self.make} {self.model} is now running\")\n",
    "        else:\n",
    "            print(f\"The {self.make} {self.model} is already running!\")\n",
    "\n",
    "    def stop(self):\n",
    "        \"\"\"\n",
    "        Turns the car off if currently running\n",
    "        and prints a message about its status\n",
    "        \"\"\"\n",
    "        if self.is_running == True:\n",
    "            self.is_running = False\n",
    "            print(f\"The {self.make} {self.model} is now off\")\n",
    "        else:\n",
    "            print(f\"The {self.make} {self.model} is already off!\")"
   ]
  },
  {
   "cell_type": "markdown",
   "metadata": {},
   "source": [
    "### Inheritance\n",
    "\n",
    "### Requirements:\n",
    "\n",
    "Create a class called `ElectricCar` that inherits from `Car`.\n",
    "\n",
    "1. **Attribute**:\n",
    "   - `_battery_level`: The car's current battery level, as a percent. Initialize at 100.\n",
    "\n",
    "2. **Methods**:\n",
    "   - `drive()`: Takes `miles` as input. Checks if the car is running and uses `_check_charge()` to determine if there is enough battery power remaining. Will print a message like `\"Driving [miles] miles\"` if conditions are satisfied.\n",
    "   - `recharge()`: Resets `_battery_level` to 100.\n",
    "   - `_check_charge()`: Takes `miles` and returns `True` if there is enough battery power to complete the trip. Assumes 200 miles can be driven on a single full charge.\n"
   ]
  },
  {
   "cell_type": "code",
   "execution_count": null,
   "metadata": {},
   "outputs": [],
   "source": [
    "class ElectricCar(Car):\n",
    "    # put code here!"
   ]
  },
  {
   "cell_type": "code",
   "execution_count": null,
   "metadata": {},
   "outputs": [],
   "source": [
    "# Demonstrate polymorphism here\n",
    "# by defining a function start_my_car() to call start(),\n",
    "# regardless of whether the car is electric or not.\n",
    "\n"
   ]
  },
  {
   "cell_type": "markdown",
   "metadata": {},
   "source": [
    "### Composition\n",
    "\n",
    "### Requirements:\n",
    "\n",
    "Create a class called `Radio` with thte following:\n",
    "\n",
    "1. **Attributes**:\n",
    "   - `status`: Is `True` if the radio is turned on. Defaults to `False`.\n",
    "   - `station`: The station setting of the radio. Should initialize at 88.\n",
    "\n",
    "2. **Methods**:\n",
    "   - `power_button()`: Changes the value of `status`.\n",
    "   - `change_station()`: Takes a station number (float) and updates `station`, only if `_check_station()` returns `True`.\n",
    "   - `_check_station()`: Takes a number (float) and returns `True` if that number is a valid FM station (between 88.0 and 108.0).\n"
   ]
  },
  {
   "cell_type": "code",
   "execution_count": null,
   "metadata": {},
   "outputs": [],
   "source": []
  },
  {
   "cell_type": "markdown",
   "metadata": {},
   "source": [
    "### Additional examples from lecture slides"
   ]
  },
  {
   "cell_type": "code",
   "execution_count": null,
   "metadata": {},
   "outputs": [],
   "source": [
    "# method resolution order.\n",
    "class mother:\n",
    "    def my_method(self):\n",
    "        print(\"called mother's method\")\n",
    "\n",
    "class father:\n",
    "    def my_method(self):\n",
    "        print(\"called father's method\")  \n",
    "\n",
    "class child(father, mother):\n",
    "    pass # you may not have seen this before--think of pass as a placeholder that does nothing (how useful!)\n",
    "\n",
    "child1=child()\n",
    "# which will it use? the mother's? or the father's?\n",
    "child1.my_method()"
   ]
  },
  {
   "cell_type": "code",
   "execution_count": null,
   "metadata": {},
   "outputs": [],
   "source": [
    "def print_length(obj):\n",
    "    \"\"\"\n",
    "    Prints the length of the given object as long as the object's class\n",
    "    definition has implemented the __len__ magic method.\n",
    "    \"\"\"\n",
    "    print(len(obj))\n",
    "\n",
    "print_length([1,2,3])\n",
    "print_length(('a','b','c'))\n",
    "print_length({'cat','dog'})\n",
    "print_length(\"CSE 2050\")"
   ]
  },
  {
   "cell_type": "markdown",
   "metadata": {},
   "source": [
    "### Refactoring Example"
   ]
  },
  {
   "cell_type": "code",
   "execution_count": null,
   "metadata": {},
   "outputs": [],
   "source": [
    "# Given two lists L1 and L2, \n",
    "# calculate the average of each list \n",
    "# and store the averages in variables avg1 and avg2\n",
    "\n",
    "L1 = [1,2,3]\n",
    "L2 = []"
   ]
  },
  {
   "cell_type": "code",
   "execution_count": null,
   "metadata": {},
   "outputs": [],
   "source": [
    "# Average of two lists, version 1\n",
    "avg1 = sum(L1)/len(L1)\n",
    "avg2 = sum(L2)/len(L2)\n",
    "\n",
    "print(avg1)\n",
    "print(avg2)"
   ]
  },
  {
   "cell_type": "code",
   "execution_count": null,
   "metadata": {},
   "outputs": [],
   "source": [
    "# version 2\n",
    "if len(L1) == 0: \n",
    "    avg1 = 0 \n",
    "else:\n",
    "    avg1 = sum(L1)/len(L1)\n",
    "if len(L2) == 0: \n",
    "    avg2 = 0\n",
    "else:\n",
    "    avg2 = sum(L2)/len(L2)\n",
    "\n",
    "print(avg1)\n",
    "print(avg2)"
   ]
  },
  {
   "cell_type": "code",
   "execution_count": null,
   "metadata": {},
   "outputs": [],
   "source": [
    "# version 3\n",
    "def avg(L): \n",
    "    if len(L) == 0: \n",
    "        return 0 \n",
    "    else: \n",
    "        return sum(L)/len(L)\n",
    "\n",
    "avg1 = avg(L1)\n",
    "avg2 = avg(L2)\n",
    "\n",
    "print(avg1)\n",
    "print(avg2)"
   ]
  },
  {
   "cell_type": "markdown",
   "metadata": {},
   "source": [
    "### The unittest module\n",
    "\n",
    "Write two unit tests for your `Car` class."
   ]
  },
  {
   "cell_type": "markdown",
   "metadata": {},
   "source": []
  }
 ],
 "metadata": {
  "kernelspec": {
   "display_name": "base",
   "language": "python",
   "name": "python3"
  },
  "language_info": {
   "codemirror_mode": {
    "name": "ipython",
    "version": 3
   },
   "file_extension": ".py",
   "mimetype": "text/x-python",
   "name": "python",
   "nbconvert_exporter": "python",
   "pygments_lexer": "ipython3",
   "version": "3.11.5"
  }
 },
 "nbformat": 4,
 "nbformat_minor": 2
}
