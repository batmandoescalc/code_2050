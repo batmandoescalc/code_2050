{
 "cells": [
  {
   "cell_type": "markdown",
   "metadata": {
    "vscode": {
     "languageId": "plaintext"
    }
   },
   "source": [
    "### merge"
   ]
  },
  {
   "cell_type": "code",
   "execution_count": 1,
   "metadata": {},
   "outputs": [],
   "source": [
    "def merge(A, B, L):\n",
    "    \"\"\"Merges sorted lists A and B into list L\"\"\"\n",
    "    i = j = 0\n",
    "    while i < len(A) or j < len(B):\n",
    "        if (j == len(B)) or (i < len(A) and A[i] < B[j]):\n",
    "            L[i+j] = A[i]\n",
    "            i += 1\n",
    "        else:\n",
    "            L[i+j] = B[j]\n",
    "            j += 1"
   ]
  },
  {
   "cell_type": "code",
   "execution_count": null,
   "metadata": {},
   "outputs": [],
   "source": [
    "# test it"
   ]
  },
  {
   "cell_type": "markdown",
   "metadata": {},
   "source": [
    "### merge sort"
   ]
  },
  {
   "cell_type": "code",
   "execution_count": null,
   "metadata": {},
   "outputs": [],
   "source": [
    "def mergesort(L):\n",
    "    \"\"\"Sorts the input list L.\"\"\"\n",
    "    # base case\n",
    "    if len(L) < 2:\n",
    "        return\n",
    "    # divide\n",
    "    mid = len(L) // 2\n",
    "    A = L[:mid]\n",
    "    B = L[mid:]\n",
    "    # conquer\n",
    "    mergesort(A)\n",
    "    mergesort(B)\n",
    "    # combine\n",
    "    merge(A, B, L)"
   ]
  },
  {
   "cell_type": "code",
   "execution_count": 3,
   "metadata": {},
   "outputs": [],
   "source": [
    "# test it"
   ]
  },
  {
   "cell_type": "code",
   "execution_count": null,
   "metadata": {},
   "outputs": [],
   "source": [
    "# exercise: edit this to return the number of duplicates along with the sorted list.\n",
    "\n",
    "def merge_and_count_dup(A, B, L):\n",
    "    \"\"\"Merges sorted lists A and B into list L\"\"\"\n",
    "    i = j = 0\n",
    "    while i < len(A) or j < len(B):\n",
    "        if (j == len(B)) or (i < len(A) and A[i] < B[j]):\n",
    "            L[i+j] = A[i]\n",
    "            i += 1\n",
    "        else:\n",
    "            L[i+j] = B[j]\n",
    "            j += 1"
   ]
  },
  {
   "cell_type": "markdown",
   "metadata": {},
   "source": [
    "### quicksort"
   ]
  },
  {
   "cell_type": "code",
   "execution_count": null,
   "metadata": {},
   "outputs": [],
   "source": [
    "# this first version illustrates the concept, but we'll be able to improve upon it later\n",
    "# we'll call it \"quicksorted\" and then reserve the name \"quicksort\" for the better one\n",
    "\n",
    "def quicksorted(L):\n",
    "    # base case\n",
    "    if len(L) < 2:\n",
    "        return L\n",
    "    # divide\n",
    "    pivot = L[-1]\n",
    "    LT = [i for i in L if i < pivot]\n",
    "    ET = [i for i in L if i == pivot]\n",
    "    GT = [i for i in L if i > pivot]\n",
    "    # conquer\n",
    "    LT = quicksorted(LT)\n",
    "    GT = quicksorted(GT)\n",
    "    # combine\n",
    "    return LT + ET + GT"
   ]
  },
  {
   "cell_type": "code",
   "execution_count": null,
   "metadata": {},
   "outputs": [],
   "source": [
    "# test it"
   ]
  },
  {
   "cell_type": "code",
   "execution_count": 4,
   "metadata": {},
   "outputs": [],
   "source": [
    "def _partition(L, left, right):\n",
    "    \"\"\"Partitions L for quicksort and returns index of pivot\"\"\"\n",
    "    pivot = right -1\n",
    "    i = left\n",
    "    j = pivot -1\n",
    "    while i < j:\n",
    "        # move i to point to an element >= L[pivot]\n",
    "        while L[i] < L[pivot]:\n",
    "            i += 1\n",
    "        # move j to point to an element < L[pivot]\n",
    "        while i < j and L[j] >= L[pivot]:\n",
    "            j -= 1\n",
    "        # swap elements i and j if i < j\n",
    "        if i < j:\n",
    "            L[i], L[j] = L[j], L[i]\n",
    "    # put pivot in place\n",
    "    if L[pivot] <= L[i]:\n",
    "        L[pivot], L[i] = L[i], L[pivot]\n",
    "        pivot = i\n",
    "    # return index of pivot\n",
    "    return pivot"
   ]
  },
  {
   "cell_type": "code",
   "execution_count": 5,
   "metadata": {},
   "outputs": [],
   "source": [
    "def quicksort(L):\n",
    "    \"\"\"Sorts L in-place\"\"\"\n",
    "    _quicksort(L, 0, len(L))\n",
    "\n",
    "def _quicksort(L, left, right):\n",
    "    \"\"\"Helper function for quicksort. Sorts L in-place\"\"\"\n",
    "    # base case\n",
    "    if right - left < 2:\n",
    "        return\n",
    "    # divide\n",
    "    pivot = _partition(L, left, right)\n",
    "    # conquer\n",
    "    _quicksort(L, left, pivot)\n",
    "    _quicksort(L, pivot + 1, right)\n",
    "    # combine\n",
    "    # nothing to do!"
   ]
  },
  {
   "cell_type": "code",
   "execution_count": null,
   "metadata": {},
   "outputs": [],
   "source": [
    "# test it"
   ]
  },
  {
   "cell_type": "code",
   "execution_count": 6,
   "metadata": {},
   "outputs": [],
   "source": [
    "# now we can randomize the pivot location for _partition\n",
    "\n",
    "from random import randrange\n",
    "\n",
    "def _partition(L, left, right):\n",
    "    \"\"\"Partitions L for quicksort and returns index of pivot\"\"\"\n",
    "    pivot = randrange(left, right)\n",
    "    i = left\n",
    "    j = pivot -1\n",
    "    while i < j:\n",
    "        # move i to point to an element >= L[pivot]\n",
    "        while L[i] < L[pivot]:\n",
    "            i += 1\n",
    "        # move j to point to an element < L[pivot]\n",
    "        while i < j and L[j] >= L[pivot]:\n",
    "            j -= 1\n",
    "        # swap elements i and j if i < j\n",
    "        if i < j:\n",
    "            L[i], L[j] = L[j], L[i]\n",
    "    # put pivot in place\n",
    "    if L[pivot] <= L[i]:\n",
    "        L[pivot], L[i] = L[i], L[pivot]\n",
    "        pivot = i\n",
    "    # return index of pivot\n",
    "    return pivot"
   ]
  },
  {
   "cell_type": "markdown",
   "metadata": {},
   "source": [
    "### Selection Algorithms"
   ]
  },
  {
   "cell_type": "code",
   "execution_count": null,
   "metadata": {},
   "outputs": [],
   "source": [
    "def findSmallest(L):\n",
    "    a = None\n",
    "    for item in L:\n",
    "        if a is None or item < a:\n",
    "            a = item\n",
    "    return a"
   ]
  },
  {
   "cell_type": "code",
   "execution_count": null,
   "metadata": {},
   "outputs": [],
   "source": [
    "# test it"
   ]
  },
  {
   "cell_type": "code",
   "execution_count": null,
   "metadata": {},
   "outputs": [],
   "source": [
    "def findSecondSmallest(L):\n",
    "    a = b = None\n",
    "    for item in L:\n",
    "        if a is None or item <= a:\n",
    "            a, b = item, a\n",
    "        elif b is None or item <= b:\n",
    "            b = item\n",
    "    return b"
   ]
  },
  {
   "cell_type": "code",
   "execution_count": null,
   "metadata": {},
   "outputs": [],
   "source": [
    "# test it"
   ]
  },
  {
   "cell_type": "code",
   "execution_count": 8,
   "metadata": {},
   "outputs": [],
   "source": [
    "def quickselect(L, k):\n",
    "    \"\"\"Returns the k-th smallest element from list L\"\"\"\n",
    "    return _quickselect(L, k, 0, len(L))\n",
    "\n",
    "def _quickselect(L, k, left, right):\n",
    "    \"\"\"Helper function for quickselect\"\"\"\n",
    "    pivot = _partition(L, left, right)\n",
    "    if k == pivot + 1:\n",
    "        return L[pivot]\n",
    "    if k < pivot + 1:\n",
    "        return _quickselect(L, k, left, pivot)\n",
    "    return _quickselect(L, k, pivot+1, right)"
   ]
  },
  {
   "cell_type": "code",
   "execution_count": null,
   "metadata": {},
   "outputs": [],
   "source": [
    "# test it"
   ]
  }
 ],
 "metadata": {
  "kernelspec": {
   "display_name": "base",
   "language": "python",
   "name": "python3"
  },
  "language_info": {
   "codemirror_mode": {
    "name": "ipython",
    "version": 3
   },
   "file_extension": ".py",
   "mimetype": "text/x-python",
   "name": "python",
   "nbconvert_exporter": "python",
   "pygments_lexer": "ipython3",
   "version": "3.11.5"
  }
 },
 "nbformat": 4,
 "nbformat_minor": 2
}
