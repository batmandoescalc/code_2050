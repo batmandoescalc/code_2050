{
 "cells": [
  {
   "cell_type": "markdown",
   "metadata": {},
   "source": [
    "### Searching"
   ]
  },
  {
   "cell_type": "code",
   "execution_count": null,
   "metadata": {},
   "outputs": [],
   "source": [
    "# Each recursive call occurs on a slice of the original set\n",
    "def binarySearchSlice(L, item):\n",
    "    if len(L) == 0:\n",
    "        return False\n",
    "    mid = len(L) //2\n",
    "    if item == L[mid]:\n",
    "        return True\n",
    "    if item < L[mid]:\n",
    "        return binarySearchSlice(L[:mid], item)\n",
    "    return binarySearchSlice(L[mid+1:], item)"
   ]
  },
  {
   "cell_type": "code",
   "execution_count": null,
   "metadata": {},
   "outputs": [],
   "source": [
    "# in this version, we don't create a slice each time\n",
    "def binarySearch(L, item, left=0, right=None):\n",
    "    if right is None:\n",
    "        right = len(L) - 1\n",
    "    if left > right:\n",
    "        return False\n",
    "    mid = left + (right - left) // 2\n",
    "    if item == L[mid]:\n",
    "        return True\n",
    "    if item < L[mid]:\n",
    "        right = mid - 1\n",
    "    else:\n",
    "        left = mid + 1\n",
    "    return binarySearch(L, item, left, right)"
   ]
  },
  {
   "cell_type": "markdown",
   "metadata": {},
   "source": [
    "### Tail Recursion"
   ]
  },
  {
   "cell_type": "code",
   "execution_count": null,
   "metadata": {},
   "outputs": [],
   "source": [
    "def fact(n):\n",
    "    if n == 0:\n",
    "        return 1\n",
    "    return n * fact(n-1)"
   ]
  },
  {
   "cell_type": "code",
   "execution_count": null,
   "metadata": {},
   "outputs": [],
   "source": [
    "def fact(n):\n",
    "    return _fact(n,1)\n",
    "\n",
    "def _fact(n, result):\n",
    "    if n == 0:\n",
    "        return result\n",
    "    return _fact(n-1, n * result)"
   ]
  },
  {
   "cell_type": "markdown",
   "metadata": {},
   "source": [
    "### Sorting"
   ]
  },
  {
   "cell_type": "code",
   "execution_count": 1,
   "metadata": {},
   "outputs": [],
   "source": [
    "def bubble_sort(L):\n",
    "    n = len(L)\n",
    "    for _ in range(n):\n",
    "        for i in range(n-1):\n",
    "            if L[i] > L[i+1]:\n",
    "                L[i], L[i+1] = L[i+1], L[i]"
   ]
  },
  {
   "cell_type": "code",
   "execution_count": 2,
   "metadata": {},
   "outputs": [],
   "source": [
    "def bubble_sort_adaptive(L):\n",
    "    n = len(L)\n",
    "    unsorted = True\n",
    "    while unsorted:\n",
    "        unsorted = False\n",
    "        for i in range(n-1):\n",
    "            if L[i] > L[i+1]:\n",
    "                L[i], L[i+1] = L[i+1], L[i]\n",
    "                unsorted = True"
   ]
  },
  {
   "cell_type": "code",
   "execution_count": 3,
   "metadata": {},
   "outputs": [],
   "source": [
    "def selection_sort(L):\n",
    "    n = len(L)\n",
    "    for i in range(n):\n",
    "        min_index = i\n",
    "        for j in range(i, n):\n",
    "            if L[j] < L[min_index]:\n",
    "                min_index = j\n",
    "        L[i], L[min_index] = L[min_index], L[i]"
   ]
  },
  {
   "cell_type": "code",
   "execution_count": 5,
   "metadata": {},
   "outputs": [],
   "source": [
    "def insertion_sort(L):\n",
    "    n = len(L)\n",
    "    for i in range(n):\n",
    "        for j in range(i, 0, -1):\n",
    "            if L[j-1] > L[j]:\n",
    "                L[j-1], L[j] = L[j], L[j-1]"
   ]
  },
  {
   "cell_type": "code",
   "execution_count": 6,
   "metadata": {},
   "outputs": [],
   "source": [
    "def insertion_sort_adaptive(L):\n",
    "    n = len(L)\n",
    "    for i in range(n):\n",
    "        j = i\n",
    "        while j > 0 and L[j-1] > L[j]:\n",
    "            L[j-1], L[j] = L[j], L[j-1]\n",
    "            j -= 1"
   ]
  },
  {
   "cell_type": "code",
   "execution_count": null,
   "metadata": {},
   "outputs": [],
   "source": []
  }
 ],
 "metadata": {
  "kernelspec": {
   "display_name": "base",
   "language": "python",
   "name": "python3"
  },
  "language_info": {
   "codemirror_mode": {
    "name": "ipython",
    "version": 3
   },
   "file_extension": ".py",
   "mimetype": "text/x-python",
   "name": "python",
   "nbconvert_exporter": "python",
   "pygments_lexer": "ipython3",
   "version": "3.11.5"
  }
 },
 "nbformat": 4,
 "nbformat_minor": 2
}
