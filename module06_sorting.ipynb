{
 "cells": [
  {
   "cell_type": "code",
   "execution_count": null,
   "metadata": {},
   "outputs": [],
   "source": [
    "# Each recursive call occurs on a slice of the original set\n",
    "def binarySearchSlice(L, item):\n",
    "    if len(L) == 0:\n",
    "        return False\n",
    "    mid = len(L) //2\n",
    "    if item == L[mid]:\n",
    "        return True\n",
    "    if item < L[mid]:\n",
    "        return binarySearchSlice(L[:mid], item)\n",
    "    return binarySearchSlice(L[mid+1:], item)"
   ]
  },
  {
   "cell_type": "code",
   "execution_count": null,
   "metadata": {},
   "outputs": [],
   "source": [
    "# in this version, we don't create a slice each time\n",
    "def binarySearch(L, item, left=0, right=None):\n",
    "    if right is None:\n",
    "        right = len(L) - 1\n",
    "    if left > right:\n",
    "        return False\n",
    "    mid = left + (right - left) // 2\n",
    "    if item == L[mid]:\n",
    "        return True\n",
    "    if item < L[mid]:\n",
    "        right = mid - 1\n",
    "    else:\n",
    "        left = mid + 1\n",
    "    return binarySearch(L, item, left, right)"
   ]
  }
 ],
 "metadata": {
  "language_info": {
   "name": "python"
  }
 },
 "nbformat": 4,
 "nbformat_minor": 2
}
