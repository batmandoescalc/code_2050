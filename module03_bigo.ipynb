{
 "cells": [
  {
   "cell_type": "code",
   "execution_count": null,
   "metadata": {},
   "outputs": [],
   "source": [
    "def integer_sum(n):\n",
    "    \"\"\"returns the sum of the integers 1 to n\"\"\"\n",
    "    sum = 0\n",
    "    for i in range(1,n+1):\n",
    "        sum += i\n",
    "    return sum"
   ]
  },
  {
   "cell_type": "code",
   "execution_count": 1,
   "metadata": {},
   "outputs": [],
   "source": [
    "def foo():\n",
    "    n = 10\n",
    "    d = {i : j for i in range(n) for j in range(n)}\n",
    "    return d"
   ]
  },
  {
   "cell_type": "code",
   "execution_count": 2,
   "metadata": {},
   "outputs": [],
   "source": [
    "def find_evens(L):\n",
    "    evens = []\n",
    "    for i in L:\n",
    "        if i % 2 == 0:\n",
    "            evens.append(i)\n",
    "    return evens"
   ]
  },
  {
   "cell_type": "code",
   "execution_count": 3,
   "metadata": {},
   "outputs": [],
   "source": [
    "def duplicates1(L):\n",
    "    n = len(L)\n",
    "    for i in range(n):\n",
    "        for j in range(n):\n",
    "            if i != j and L[i] == L[j]:\n",
    "                return True\n",
    "    return False"
   ]
  },
  {
   "cell_type": "code",
   "execution_count": 5,
   "metadata": {},
   "outputs": [
    {
     "name": "stdout",
     "output_type": "stream",
     "text": [
      "Time taken for n = 1000 : 0.029727935791015625\n",
      "Time taken for n = 1000 : 0.020110130310058594\n",
      "Time taken for n = 1000 : 0.017492294311523438\n",
      "Time taken for n = 1000 : 0.016701221466064453\n",
      "Time taken for n = 1000 : 0.015278100967407227\n"
     ]
    }
   ],
   "source": [
    "import time\n",
    "\n",
    "for i in range(5):\n",
    "    n = 1000\n",
    "    start = time.time()\n",
    "    duplicates1(list(range(n)))\n",
    "    timetaken = time.time() - start\n",
    "    print(f\"Time taken for n = {n} : {timetaken}\")"
   ]
  },
  {
   "cell_type": "code",
   "execution_count": 6,
   "metadata": {},
   "outputs": [
    {
     "name": "stdout",
     "output_type": "stream",
     "text": [
      "average = 0.0000478 for n = 50\n",
      "average = 0.0001717 for n = 100\n",
      "average = 0.0009552 for n = 200\n",
      "average = 0.0028979 for n = 400\n",
      "average = 0.0100853 for n = 800\n",
      "average = 0.0437197 for n = 1600\n",
      "average = 0.1610856 for n = 3200\n"
     ]
    }
   ],
   "source": [
    "def timetrials(func, n, trials = 10):\n",
    "    totaltime = 0\n",
    "    for i in range(trials):\n",
    "        start = time.time()\n",
    "        func(list(range(n)))\n",
    "        totaltime += time.time() - start\n",
    "    avg = totaltime / trials\n",
    "    print(f\"average = {avg:.7f} for n = {n}\")\n",
    "\n",
    "for n in [50, 100, 200, 400, 800, 1600, 3200]:\n",
    "    timetrials(duplicates1, n)"
   ]
  },
  {
   "cell_type": "code",
   "execution_count": 7,
   "metadata": {},
   "outputs": [
    {
     "name": "stdout",
     "output_type": "stream",
     "text": [
      "average = 0.0000255 for n = 50\n",
      "average = 0.0000982 for n = 100\n",
      "average = 0.0012418 for n = 200\n",
      "average = 0.0030411 for n = 400\n",
      "average = 0.0039819 for n = 800\n",
      "average = 0.0161482 for n = 1600\n",
      "average = 0.0652916 for n = 3200\n"
     ]
    }
   ],
   "source": [
    "def duplicates2(L):\n",
    "    n = len(L)\n",
    "    for i in range(1,n):\n",
    "        for j in range(i):\n",
    "            if L[i] == L[j]:\n",
    "                return True\n",
    "    return False\n",
    "\n",
    "for n in [50, 100, 200, 400, 800, 1600, 3200]:\n",
    "    timetrials(duplicates2, n)"
   ]
  },
  {
   "cell_type": "code",
   "execution_count": 9,
   "metadata": {},
   "outputs": [
    {
     "name": "stdout",
     "output_type": "stream",
     "text": [
      "average = 0.0000601 for n = 50\n",
      "average = 0.0002828 for n = 100\n",
      "average = 0.0008138 for n = 200\n",
      "average = 0.0023822 for n = 400\n",
      "average = 0.0073601 for n = 800\n",
      "average = 0.0283479 for n = 1600\n",
      "average = 0.1157595 for n = 3200\n"
     ]
    }
   ],
   "source": [
    "def duplicates3(L):\n",
    "    n = len(L)\n",
    "    return any(L[i] == L[j] for i in range(1,n) for j in range(i))\n",
    "\n",
    "for n in [50, 100, 200, 400, 800, 1600, 3200]:\n",
    "    timetrials(duplicates3, n)"
   ]
  },
  {
   "cell_type": "code",
   "execution_count": 10,
   "metadata": {},
   "outputs": [
    {
     "name": "stdout",
     "output_type": "stream",
     "text": [
      "average = 0.0000025 for n = 50\n",
      "average = 0.0000036 for n = 100\n",
      "average = 0.0000064 for n = 200\n",
      "average = 0.0000142 for n = 400\n",
      "average = 0.0000310 for n = 800\n",
      "average = 0.0000642 for n = 1600\n",
      "average = 0.0003370 for n = 3200\n"
     ]
    }
   ],
   "source": [
    "def duplicates4(L):\n",
    "    n = len(L)\n",
    "    L.sort()\n",
    "    for i in range(n-1):\n",
    "        if L[i] == L[i+1]:\n",
    "            return True\n",
    "    return False\n",
    "\n",
    "for n in [50, 100, 200, 400, 800, 1600, 3200]:\n",
    "    timetrials(duplicates4, n)"
   ]
  },
  {
   "cell_type": "code",
   "execution_count": 11,
   "metadata": {},
   "outputs": [
    {
     "name": "stdout",
     "output_type": "stream",
     "text": [
      "average = 0.0000035 for n = 50\n",
      "average = 0.0000052 for n = 100\n",
      "average = 0.0000095 for n = 200\n",
      "average = 0.0000204 for n = 400\n",
      "average = 0.0000447 for n = 800\n",
      "average = 0.0001096 for n = 1600\n",
      "average = 0.0002163 for n = 3200\n"
     ]
    }
   ],
   "source": [
    "def duplicates5(L):\n",
    "    n = len(L)\n",
    "    L.sort()\n",
    "    return any(L[i] == L[i+1] for i in range(n-1))\n",
    "\n",
    "for n in [50, 100, 200, 400, 800, 1600, 3200]:\n",
    "    timetrials(duplicates5, n)"
   ]
  },
  {
   "cell_type": "code",
   "execution_count": 13,
   "metadata": {},
   "outputs": [
    {
     "name": "stdout",
     "output_type": "stream",
     "text": [
      "average = 0.0000025 for n = 50\n",
      "average = 0.0000038 for n = 100\n",
      "average = 0.0000064 for n = 200\n",
      "average = 0.0000147 for n = 400\n",
      "average = 0.0000261 for n = 800\n",
      "average = 0.0000565 for n = 1600\n",
      "average = 0.0001060 for n = 3200\n"
     ]
    }
   ],
   "source": [
    "def duplicates6(L):\n",
    "    s = set()\n",
    "    for e in L:\n",
    "        if e in s:\n",
    "            return True\n",
    "        s.add(e)\n",
    "    return False\n",
    "\n",
    "for n in [50, 100, 200, 400, 800, 1600, 3200]:\n",
    "    timetrials(duplicates6, n)"
   ]
  },
  {
   "cell_type": "code",
   "execution_count": 14,
   "metadata": {},
   "outputs": [
    {
     "name": "stdout",
     "output_type": "stream",
     "text": [
      "average = 0.0000013 for n = 50\n",
      "average = 0.0000016 for n = 100\n",
      "average = 0.0000025 for n = 200\n",
      "average = 0.0000059 for n = 400\n",
      "average = 0.0000115 for n = 800\n",
      "average = 0.0000269 for n = 1600\n",
      "average = 0.0000595 for n = 3200\n"
     ]
    }
   ],
   "source": [
    "def duplicates7(L):\n",
    "    return len(L) != len(set(L))\n",
    "\n",
    "for n in [50, 100, 200, 400, 800, 1600, 3200]:\n",
    "    timetrials(duplicates7, n)"
   ]
  },
  {
   "cell_type": "code",
   "execution_count": null,
   "metadata": {},
   "outputs": [],
   "source": []
  }
 ],
 "metadata": {
  "kernelspec": {
   "display_name": "base",
   "language": "python",
   "name": "python3"
  },
  "language_info": {
   "codemirror_mode": {
    "name": "ipython",
    "version": 3
   },
   "file_extension": ".py",
   "mimetype": "text/x-python",
   "name": "python",
   "nbconvert_exporter": "python",
   "pygments_lexer": "ipython3",
   "version": "3.11.5"
  }
 },
 "nbformat": 4,
 "nbformat_minor": 2
}
