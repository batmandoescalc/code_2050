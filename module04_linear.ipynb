{
 "cells": [
  {
   "cell_type": "markdown",
   "metadata": {},
   "source": [
    "### Code to accompany Module 4: Linear Data Structures"
   ]
  },
  {
   "cell_type": "markdown",
   "metadata": {},
   "source": [
    "### Stacks"
   ]
  },
  {
   "cell_type": "code",
   "execution_count": 1,
   "metadata": {},
   "outputs": [],
   "source": [
    "class ListStack:\n",
    "    def __init__(self):\n",
    "        self._L = []\n",
    "    \n",
    "    def push(self, item):\n",
    "        self._L.append(item)\n",
    "\n",
    "    def pop(self):\n",
    "        return self._L.pop()\n",
    "\n",
    "    def peek(self):\n",
    "        return self._L[-1]\n",
    "\n",
    "    def __len__(self):\n",
    "        return len(self._L)\n",
    "\n",
    "    def isEmpty(self):\n",
    "        return len(self) == 0"
   ]
  },
  {
   "cell_type": "code",
   "execution_count": 2,
   "metadata": {},
   "outputs": [],
   "source": [
    "# Test the stack methods here\n",
    "stack = ListStack()\n",
    "\n",
    "stack.isEmpty() \n",
    "# etc."
   ]
  },
  {
   "cell_type": "markdown",
   "metadata": {},
   "source": [
    "### Queues"
   ]
  },
  {
   "cell_type": "code",
   "execution_count": 6,
   "metadata": {},
   "outputs": [],
   "source": [
    "class ListQueue:\n",
    "    def __init__(self):\n",
    "        self._L = []\n",
    "    \n",
    "    def enqueue(self, item):\n",
    "        self._L.append(item)\n",
    "\n",
    "    def dequeue(self):\n",
    "        return self._L.pop(0)\n",
    "\n",
    "    def peek(self):\n",
    "        return self._L[0]\n",
    "\n",
    "    def __len__(self):\n",
    "        return len(self._L)\n",
    "\n",
    "    def isEmpty(self):\n",
    "        return len(self) == 0"
   ]
  },
  {
   "cell_type": "code",
   "execution_count": null,
   "metadata": {},
   "outputs": [],
   "source": [
    "# Test the queue methods here\n",
    "queue = ListQueue()\n",
    "\n",
    "queue.isEmpty() \n",
    "# etc."
   ]
  },
  {
   "cell_type": "code",
   "execution_count": null,
   "metadata": {},
   "outputs": [],
   "source": [
    "# Lazy Updates\n",
    "class ListQueue2:\n",
    "    def __init__(self):\n",
    "        self._head = 0\n",
    "        self._L = []\n",
    "    \n",
    "    def enqueue(self, item):\n",
    "        self._L.append(item)\n",
    "\n",
    "    def dequeue(self):\n",
    "        item = self.peek()\n",
    "        self._head += 1\n",
    "        return item\n",
    "\n",
    "    def peek(self):\n",
    "        return self._L[self._head]\n",
    "\n",
    "    def __len__(self):\n",
    "        return len(self._L) - self._head\n",
    "\n",
    "    def isEmpty(self):\n",
    "        return len(self) == 0"
   ]
  },
  {
   "cell_type": "markdown",
   "metadata": {},
   "source": [
    "### Errors"
   ]
  },
  {
   "cell_type": "code",
   "execution_count": null,
   "metadata": {},
   "outputs": [],
   "source": [
    "# What happens when we try to use pop() on an empty stack?\n",
    "s = ListStack()\n",
    "s.push(17)\n",
    "s.pop()\n",
    "s.pop()"
   ]
  },
  {
   "cell_type": "code",
   "execution_count": 8,
   "metadata": {},
   "outputs": [],
   "source": [
    "# Use try-except and raise an error\n",
    "class ListStack:\n",
    "    def __init__(self):\n",
    "        self._L = []\n",
    "    \n",
    "    def push(self, item):\n",
    "        self._L.append(item)\n",
    "\n",
    "    def pop(self):\n",
    "        try:\n",
    "            return self._L.pop()\n",
    "        except:\n",
    "            raise RuntimeError(\"pop from empty stack\")\n",
    "\n",
    "    def peek(self):\n",
    "        return self._L[-1]\n",
    "\n",
    "    def __len__(self):\n",
    "        return len(self._L)\n",
    "\n",
    "    def isEmpty(self):\n",
    "        return len(self) == 0"
   ]
  },
  {
   "cell_type": "code",
   "execution_count": null,
   "metadata": {},
   "outputs": [],
   "source": [
    "# Test\n",
    "s = ListStack()\n",
    "s.push(17)\n",
    "s.pop()\n",
    "s.pop()"
   ]
  },
  {
   "cell_type": "code",
   "execution_count": 10,
   "metadata": {},
   "outputs": [],
   "source": [
    "# Use try-except but only print an error\n",
    "class ListStack:\n",
    "    def __init__(self):\n",
    "        self._L = []\n",
    "    \n",
    "    def push(self, item):\n",
    "        self._L.append(item)\n",
    "\n",
    "    def pop(self):\n",
    "        try:\n",
    "            return self._L.pop()\n",
    "        except:\n",
    "            print(\"You just tried to pop from an empty stack.\")\n",
    "\n",
    "    def peek(self):\n",
    "        return self._L[-1]\n",
    "\n",
    "    def __len__(self):\n",
    "        return len(self._L)\n",
    "\n",
    "    def isEmpty(self):\n",
    "        return len(self) == 0"
   ]
  },
  {
   "cell_type": "code",
   "execution_count": null,
   "metadata": {},
   "outputs": [],
   "source": [
    "# Test\n",
    "s = ListStack()\n",
    "s.push(17)\n",
    "s.pop()\n",
    "s.pop()"
   ]
  },
  {
   "cell_type": "code",
   "execution_count": null,
   "metadata": {},
   "outputs": [],
   "source": []
  }
 ],
 "metadata": {
  "kernelspec": {
   "display_name": "base",
   "language": "python",
   "name": "python3"
  },
  "language_info": {
   "codemirror_mode": {
    "name": "ipython",
    "version": 3
   },
   "file_extension": ".py",
   "mimetype": "text/x-python",
   "name": "python",
   "nbconvert_exporter": "python",
   "pygments_lexer": "ipython3",
   "version": "3.11.5"
  }
 },
 "nbformat": 4,
 "nbformat_minor": 2
}
