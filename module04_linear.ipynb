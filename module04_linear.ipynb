{
 "cells": [
  {
   "cell_type": "markdown",
   "metadata": {},
   "source": [
    "### Code to accompany Module 4: Linear Data Structures"
   ]
  },
  {
   "cell_type": "markdown",
   "metadata": {},
   "source": [
    "### Stacks"
   ]
  },
  {
   "cell_type": "code",
   "execution_count": 1,
   "metadata": {},
   "outputs": [],
   "source": [
    "class ListStack:\n",
    "    def __init__(self):\n",
    "        self._L = []\n",
    "    \n",
    "    def push(self, item):\n",
    "        self._L.append(item)\n",
    "\n",
    "    def pop(self):\n",
    "        return self._L.pop()\n",
    "\n",
    "    def peek(self):\n",
    "        return self._L[-1]\n",
    "\n",
    "    def __len__(self):\n",
    "        return len(self._L)\n",
    "\n",
    "    def isEmpty(self):\n",
    "        return len(self) == 0"
   ]
  },
  {
   "cell_type": "code",
   "execution_count": 2,
   "metadata": {},
   "outputs": [],
   "source": [
    "# Test the stack methods here\n",
    "stack = ListStack()\n",
    "\n",
    "stack.isEmpty() \n",
    "# etc."
   ]
  },
  {
   "cell_type": "markdown",
   "metadata": {},
   "source": [
    "### Queues"
   ]
  },
  {
   "cell_type": "code",
   "execution_count": 6,
   "metadata": {},
   "outputs": [],
   "source": [
    "class ListQueue:\n",
    "    def __init__(self):\n",
    "        self._L = []\n",
    "    \n",
    "    def enqueue(self, item):\n",
    "        self._L.append(item)\n",
    "\n",
    "    def dequeue(self):\n",
    "        return self._L.pop(0)\n",
    "\n",
    "    def peek(self):\n",
    "        return self._L[0]\n",
    "\n",
    "    def __len__(self):\n",
    "        return len(self._L)\n",
    "\n",
    "    def isEmpty(self):\n",
    "        return len(self) == 0"
   ]
  },
  {
   "cell_type": "code",
   "execution_count": null,
   "metadata": {},
   "outputs": [],
   "source": [
    "# Test the queue methods here\n",
    "queue = ListQueue()\n",
    "\n",
    "queue.isEmpty() \n",
    "# etc."
   ]
  },
  {
   "cell_type": "code",
   "execution_count": null,
   "metadata": {},
   "outputs": [],
   "source": [
    "# Lazy Updates\n",
    "class ListQueue2:\n",
    "    def __init__(self):\n",
    "        self._head = 0\n",
    "        self._L = []\n",
    "    \n",
    "    def enqueue(self, item):\n",
    "        self._L.append(item)\n",
    "\n",
    "    def dequeue(self):\n",
    "        item = self.peek()\n",
    "        self._head += 1\n",
    "        if self._head > len(self._L) // 2:\n",
    "            self._L = self._L[self._head:]\n",
    "            self._head = 0\n",
    "        return item\n",
    "\n",
    "    def peek(self):\n",
    "        return self._L[self._head]\n",
    "\n",
    "    def __len__(self):\n",
    "        return len(self._L) - self._head\n",
    "\n",
    "    def isEmpty(self):\n",
    "        return len(self) == 0"
   ]
  },
  {
   "cell_type": "markdown",
   "metadata": {},
   "source": [
    "### Error Messages"
   ]
  },
  {
   "cell_type": "code",
   "execution_count": null,
   "metadata": {},
   "outputs": [],
   "source": [
    "# What happens when we try to use pop() on an empty stack?\n",
    "s = ListStack()\n",
    "s.push(17)\n",
    "s.pop()\n",
    "s.pop()"
   ]
  },
  {
   "cell_type": "code",
   "execution_count": 8,
   "metadata": {},
   "outputs": [],
   "source": [
    "# Use try-except and raise an error\n",
    "class ListStack:\n",
    "    def __init__(self):\n",
    "        self._L = []\n",
    "    \n",
    "    def push(self, item):\n",
    "        self._L.append(item)\n",
    "\n",
    "    def pop(self):\n",
    "        try:\n",
    "            return self._L.pop()\n",
    "        except:\n",
    "            raise RuntimeError(\"pop from empty stack\")\n",
    "\n",
    "    def peek(self):\n",
    "        return self._L[-1]\n",
    "\n",
    "    def __len__(self):\n",
    "        return len(self._L)\n",
    "\n",
    "    def isEmpty(self):\n",
    "        return len(self) == 0"
   ]
  },
  {
   "cell_type": "code",
   "execution_count": null,
   "metadata": {},
   "outputs": [],
   "source": [
    "# Test\n",
    "s = ListStack()\n",
    "s.push(17)\n",
    "s.pop()\n",
    "s.pop()"
   ]
  },
  {
   "cell_type": "code",
   "execution_count": 10,
   "metadata": {},
   "outputs": [],
   "source": [
    "# Use try-except but only print an error\n",
    "class ListStack:\n",
    "    def __init__(self):\n",
    "        self._L = []\n",
    "    \n",
    "    def push(self, item):\n",
    "        self._L.append(item)\n",
    "\n",
    "    def pop(self):\n",
    "        try:\n",
    "            return self._L.pop()\n",
    "        except:\n",
    "            print(\"You just tried to pop from an empty stack.\")\n",
    "\n",
    "    def peek(self):\n",
    "        return self._L[-1]\n",
    "\n",
    "    def __len__(self):\n",
    "        return len(self._L)\n",
    "\n",
    "    def isEmpty(self):\n",
    "        return len(self) == 0"
   ]
  },
  {
   "cell_type": "code",
   "execution_count": null,
   "metadata": {},
   "outputs": [],
   "source": [
    "# Test\n",
    "s = ListStack()\n",
    "s.push(17)\n",
    "s.pop()\n",
    "s.pop()"
   ]
  },
  {
   "cell_type": "markdown",
   "metadata": {},
   "source": [
    "### Deques"
   ]
  },
  {
   "cell_type": "code",
   "execution_count": null,
   "metadata": {},
   "outputs": [],
   "source": [
    "class ListDeque:\n",
    "    def __init__(self):\n",
    "        self._L = []\n",
    "    \n",
    "    def addFirst(self, item):\n",
    "        self._L.insert(0, item)\n",
    "\n",
    "    def addLast(self, item):\n",
    "        self._L.append(item)\n",
    "\n",
    "    def removeFirst(self):\n",
    "        self._L.pop[0]\n",
    "\n",
    "    def removeLast(self):\n",
    "        self._L.pop()\n",
    "\n",
    "    def __len__(self):\n",
    "        return len(self._L)"
   ]
  },
  {
   "cell_type": "code",
   "execution_count": null,
   "metadata": {},
   "outputs": [],
   "source": [
    "# Test the deque operations"
   ]
  },
  {
   "cell_type": "markdown",
   "metadata": {},
   "source": [
    "### Linked Lists"
   ]
  },
  {
   "cell_type": "code",
   "execution_count": 1,
   "metadata": {},
   "outputs": [],
   "source": [
    "class ListNode:\n",
    "    def __init__(self, data, link=None):\n",
    "        self.data = data\n",
    "        self.link = link"
   ]
  },
  {
   "cell_type": "code",
   "execution_count": 2,
   "metadata": {},
   "outputs": [],
   "source": [
    "# Let's get this started with only functionality \n",
    "# to add or remove the first element.\n",
    "\n",
    "# We can add functionality to add/remove the last element later.\n",
    "\n",
    "class LinkedList:\n",
    "    def __init__(self):\n",
    "        self._head = None\n",
    "    \n",
    "    def addFirst(self, item):\n",
    "        self._head = ListNode(item, self._head)\n",
    "    \n",
    "    def removeFirst(self):\n",
    "        item = self._head.data\n",
    "        self._head = self._head.link\n",
    "        return item"
   ]
  },
  {
   "cell_type": "code",
   "execution_count": null,
   "metadata": {},
   "outputs": [],
   "source": [
    "# Test it out!\n",
    "\n",
    "# Create an empty list\n",
    "my_stuff = LinkedList()\n"
   ]
  },
  {
   "cell_type": "code",
   "execution_count": null,
   "metadata": {},
   "outputs": [],
   "source": [
    "# Add a few things to it\n",
    "my_stuff.addFirst(1)\n",
    "my_stuff.addFirst(3)\n",
    "my_stuff.addFirst(5)"
   ]
  },
  {
   "cell_type": "code",
   "execution_count": null,
   "metadata": {},
   "outputs": [],
   "source": [
    "# Can we remove each item?\n",
    "my_stuff.removeFirst()"
   ]
  },
  {
   "cell_type": "code",
   "execution_count": 5,
   "metadata": {},
   "outputs": [],
   "source": [
    "# Now we'll add functionality to add/remove the last element.\n",
    "\n",
    "class LinkedList:\n",
    "    def __init__(self):\n",
    "        self._head = None\n",
    "    \n",
    "    def addFirst(self, item):\n",
    "        self._head = ListNode(item, self._head)\n",
    "    \n",
    "    def removeFirst(self):\n",
    "        item = self._head.data\n",
    "        self._head = self._head.link\n",
    "        return item\n",
    "    \n",
    "    def addLast(self, item):\n",
    "        if self._head is None:\n",
    "            self.addFirst(item)\n",
    "        else:\n",
    "            currentNode = self._head\n",
    "            while currentNode.link is not None:\n",
    "                currentNode = currentNode.link\n",
    "            currentNode.link = ListNode(item)\n",
    "\n",
    "    def removeLast(self):\n",
    "        if self._head.link is None:\n",
    "            return self.removeFirst()\n",
    "        else:\n",
    "            currentNode = self._head\n",
    "            while currentNode.link.link is not None:\n",
    "                currentNode = currentNode.link\n",
    "            item = currentNode.link.data\n",
    "            currentNode.link = None\n",
    "            return item"
   ]
  },
  {
   "cell_type": "code",
   "execution_count": null,
   "metadata": {},
   "outputs": [],
   "source": [
    "# Can we simplify things if we also keep track of a tail?\n",
    "\n",
    "class LinkedList:\n",
    "    def __init__(self):\n",
    "        self._head = None\n",
    "        self._tail = None\n",
    "    \n",
    "    def addFirst(self, item):\n",
    "        self._head = ListNode(item, self._head)\n",
    "        if self._tail is None:\n",
    "            self._tail is self._head\n",
    "    \n",
    "    def removeFirst(self):\n",
    "        item = self._head.data\n",
    "        self._head = self._head.link\n",
    "        if self._head is None:\n",
    "            self._tail is None\n",
    "        return item\n",
    "    \n",
    "    def addLast(self, item):\n",
    "        if self._head is None:\n",
    "            self.addFirst(item)\n",
    "        else:\n",
    "            self._tail.link = ListNode(item)\n",
    "            self._tail = self._tail.link\n",
    "\n",
    "    def removeLast(self):\n",
    "        if self._head.link is self._tail:\n",
    "            return self.removeFirst()\n",
    "        else:\n",
    "            currentNode = self._head\n",
    "            while currentNode.link.link is not self._tail:\n",
    "                currentNode = currentNode.link\n",
    "            item = self._tail.data\n",
    "            self._tail = currentNode\n",
    "            self._tail.link = None\n",
    "            return item"
   ]
  },
  {
   "cell_type": "code",
   "execution_count": null,
   "metadata": {},
   "outputs": [],
   "source": [
    "# To really make this work efficiently, \n",
    "# we need to have links on both sides!"
   ]
  },
  {
   "cell_type": "markdown",
   "metadata": {},
   "source": [
    "### Doubly Linked Lists"
   ]
  },
  {
   "cell_type": "code",
   "execution_count": 8,
   "metadata": {},
   "outputs": [],
   "source": [
    "class ListNode:\n",
    "    def __init__(self, data, prev = None, link = None):\n",
    "        self.data = data\n",
    "        self.prev = prev\n",
    "        self.link = link\n",
    "        if prev is not None:\n",
    "            self.prev.link = self\n",
    "        if link is not None:\n",
    "            self.link.prev = self"
   ]
  },
  {
   "cell_type": "code",
   "execution_count": 9,
   "metadata": {},
   "outputs": [],
   "source": [
    "# This time, we'll start with just addFirst and addLast\n",
    "class DoublyLinkedList:\n",
    "    def __init__(self):\n",
    "        self._head = None\n",
    "        self._tail = None\n",
    "\n",
    "    def addFirst(self, item):\n",
    "        if self._head is None and self._tail is None:\n",
    "            self._head = self._tail = ListNode(item, None, None)\n",
    "        else:\n",
    "            newNode = ListNode(item, None, self._head)\n",
    "            self._head.prev = newNode\n",
    "            self._head = newNode\n",
    "    \n",
    "    def addLast(self, item):\n",
    "        if self._head is None and self._tail is None:\n",
    "            self._head = self._tail = ListNode(item, None, None)\n",
    "        else:\n",
    "            newNode = ListNode(item, self._tail, None)\n",
    "            self._tail.link = newNode\n",
    "            self._tail = newNode"
   ]
  },
  {
   "cell_type": "code",
   "execution_count": 10,
   "metadata": {},
   "outputs": [],
   "source": [
    "# We can refactor this to simplify the \n",
    "# duplication we see in the previous cell\n",
    "\n",
    "class DoublyLinkedList:\n",
    "    def __init__(self):\n",
    "        self._head = None\n",
    "        self._tail = None\n",
    "\n",
    "    def _addBetween(self, item, before, after):\n",
    "        node = ListNode(item, before, after)\n",
    "        if after is self._head:\n",
    "            self._head = node\n",
    "        if before is self._tail:\n",
    "            self._tail = node\n",
    "    \n",
    "    def addFirst(self, item):\n",
    "        self._addBetween(item, None, self._head)\n",
    "    \n",
    "    def addLast(self, item):\n",
    "        self._addBetween(item, self._tail, None)\n"
   ]
  },
  {
   "cell_type": "code",
   "execution_count": 23,
   "metadata": {},
   "outputs": [],
   "source": [
    "# Now we'll add functionality to remove items\n",
    "\n",
    "class DoublyLinkedList:\n",
    "    def __init__(self):\n",
    "        self._head = None\n",
    "        self._tail = None\n",
    "\n",
    "    def _addBetween(self, item, before, after):\n",
    "        node = ListNode(item, before, after)\n",
    "        if after is self._head:\n",
    "            self._head = node\n",
    "        if before is self._tail:\n",
    "            self._tail = node\n",
    "\n",
    "    def addFirst(self, item):\n",
    "        self._addBetween(item, None, self._head)\n",
    "    \n",
    "    def addLast(self, item):\n",
    "        self._addBetween(item, self._tail, None)\n",
    "\n",
    "    def _remove(self, node):\n",
    "        before, after = node.prev, node.link\n",
    "        if node is self._head:\n",
    "            self._head = after\n",
    "        else:\n",
    "            before.link = after\n",
    "        if node is self._tail:\n",
    "            self._tail = before\n",
    "        else: \n",
    "            after.prev = before\n",
    "        return node.data\n",
    "    \n",
    "    def removeFirst(self):\n",
    "        return self._remove(self._head)\n",
    "    \n",
    "    def removeLast(self):\n",
    "        return self._remove(self._tail)\n",
    "    "
   ]
  },
  {
   "cell_type": "code",
   "execution_count": null,
   "metadata": {},
   "outputs": [],
   "source": [
    "# can you add functionality to the above cell \n",
    "# so that we can keep track of the length of the list?"
   ]
  }
 ],
 "metadata": {
  "kernelspec": {
   "display_name": "base",
   "language": "python",
   "name": "python3"
  },
  "language_info": {
   "codemirror_mode": {
    "name": "ipython",
    "version": 3
   },
   "file_extension": ".py",
   "mimetype": "text/x-python",
   "name": "python",
   "nbconvert_exporter": "python",
   "pygments_lexer": "ipython3",
   "version": "3.11.5"
  }
 },
 "nbformat": 4,
 "nbformat_minor": 2
}
