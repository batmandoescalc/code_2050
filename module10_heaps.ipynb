{
 "cells": [
  {
   "cell_type": "markdown",
   "metadata": {},
   "source": [
    "### Using Python Lists"
   ]
  },
  {
   "cell_type": "code",
   "execution_count": null,
   "metadata": {},
   "outputs": [],
   "source": [
    "class ListPQ:\n",
    "    def __init__(self):\n",
    "        self._L = []\n",
    "\n",
    "    def insert(self, n): # running time: O(1)\n",
    "        \"\"\"adds an item to the PQ with a given priority n\"\"\"\n",
    "        self._L.append(n)\n",
    "\n",
    "    def peekMin(self): # running time O(n)\n",
    "        \"\"\"reveals which item is next in line\"\"\"\n",
    "        return min(self._L)\n",
    "    \n",
    "    def removeMin(self): # running time O(n)\n",
    "        \"\"\"reveals next item and removes it from the PQ\"\"\"\n",
    "        minNum = min(self._L) # O(n)\n",
    "        self._L.remove(minNum) # O(n)\n",
    "        return minNum"
   ]
  },
  {
   "cell_type": "code",
   "execution_count": null,
   "metadata": {},
   "outputs": [],
   "source": [
    "class SortedListPQ:\n",
    "    def __init__(self):\n",
    "        self._L = []\n",
    "\n",
    "    def insert(self, n): # O(n)\n",
    "        self._L.append(n)\n",
    "        self._L.sort(reverse=True)\n",
    "\n",
    "    def peekMin(self): # O(1)\n",
    "        return self._L[-1]\n",
    "    \n",
    "    def removeMin(self): # O(1)\n",
    "        minNum = self._L[-1]\n",
    "        self._L.pop()\n",
    "        return minNum"
   ]
  },
  {
   "cell_type": "markdown",
   "metadata": {},
   "source": [
    "### Using Heaps"
   ]
  },
  {
   "cell_type": "code",
   "execution_count": null,
   "metadata": {},
   "outputs": [],
   "source": [
    "class Entry:\n",
    "    def __init__(self, item, priority):\n",
    "        self.priority = priority\n",
    "        self.item = item\n",
    "\n",
    "    def __lt__(self, other):\n",
    "        return self.priority < other.priority\n",
    "\n",
    "    def __repr__(self):\n",
    "        return f\"{self.item}\"\n",
    "\n",
    "\n",
    "class HeapPQ:\n",
    "\n",
    "#####################################\n",
    "# administrative functions (basics) #\n",
    "#####################################\n",
    "\n",
    "    def __init__(self, L=None, heapify=\"down\"):\n",
    "        self._entries = L if L else []\n",
    "        if heapify == \"down\":\n",
    "            self._heapify_downheap()\n",
    "        elif heapify == \"up\":\n",
    "            self._heapify_upheap()\n",
    "\n",
    "    def __repr__(self):\n",
    "        return repr(self._entries)\n",
    "\n",
    "    def __len__(self):\n",
    "        \"\"\"Returns the number of entries in the heap.\"\"\"\n",
    "        return len(self._entries)\n",
    "\n",
    "#####################################################################\n",
    "# names for locations in the list that correspond to tree locations #\n",
    "#####################################################################\n",
    "\n",
    "    def _parent(self, i):\n",
    "        \"\"\"Returns the parent index for a given tree node index.\"\"\"\n",
    "        return (i - 1) // 2\n",
    "\n",
    "    def _left(self, i):\n",
    "        \"\"\"Returns the index of the root of the left child subtree for a given tree node index.\"\"\"\n",
    "        return 2*i + 1\n",
    "\n",
    "    def _right(self, i):\n",
    "        \"\"\"Returns the index of the root of the right child subtree for a given tree node index.\"\"\"\n",
    "        return 2*i + 2\n",
    "\n",
    "    def _children(self, i):\n",
    "        \"\"\"Returns an iterable containing only the left and right child subtree root indices for a given index.\"\"\"\n",
    "        left = self._left(i)\n",
    "        right = self._right(i)\n",
    "        return range(left, min(len(self), right + 1))\n",
    "    \n",
    "###################\n",
    "# user operations #\n",
    "###################\n",
    "\n",
    "    def peekmin(self): # O(1)\n",
    "        \"\"\"Returns the item in the heap with highest priority.\"\"\"\n",
    "        return self._entries[0].item\n",
    "\n",
    "    def removemin(self): # O(log n)\n",
    "        \"\"\"Returns the item in the heap with highest priority and removes it from the heap.\"\"\"\n",
    "        L = self._entries\n",
    "        item = L[0].item\n",
    "        L[0] = L[-1]\n",
    "        L.pop()\n",
    "        self._downheap(0)\n",
    "        return item\n",
    "\n",
    "    def insert(self, item, priority): # O(log n)\n",
    "        \"\"\"Creates entry for given item-priority combo and inserts n into the heap.\"\"\"\n",
    "        self._entries.append(Entry(item, priority))\n",
    "        self._upheap(len(self) - 1)\n",
    "\n",
    "########################################\n",
    "# helper functions for user operations #\n",
    "########################################\n",
    "\n",
    "    def _swap(self, i, j):\n",
    "        \"\"\"Swaps entries at indices i and j\"\"\"\n",
    "        L = self._entries\n",
    "        L[i], L[j] = L[j], L[i]\n",
    "\n",
    "    def _upheap(self, i): # O(log n)\n",
    "        \"\"\"Percolates entry at index i up the heap into its proper spot\"\"\"\n",
    "        L = self._entries\n",
    "        parent = self._parent(i)\n",
    "        if i > 0 and L[i] < L[parent]:\n",
    "            self._swap(i, parent)\n",
    "            self._upheap(parent)\n",
    "\n",
    "    def _downheap(self, i): # O(log n)\n",
    "        \"\"\"Percolates entry at index i down the heap into its proper spot\"\"\"\n",
    "        L = self._entries\n",
    "        children = self._children(i)\n",
    "        if children:\n",
    "            min_child = min(children, key=lambda x: L[x])\n",
    "            if L[i] > L[min_child]:\n",
    "                self._swap(i, min_child)\n",
    "                self._downheap(min_child)\n",
    "\n",
    "#########################################################\n",
    "# heapify functions that can be used to support sorting #\n",
    "#########################################################\n",
    "\n",
    "    def _heapify_upheap(self):\n",
    "        \"\"\"Heap orders the array using only the upheap operation. O(n log(n)) running time.\"\"\"\n",
    "        for i in range(len(self._entries)):\n",
    "            self._upheap(i)\n",
    "\n",
    "    def _heapify_downheap(self):\n",
    "        \"\"\"Heap orders the array using only the downheap operation. O(n) running time.\"\"\"\n",
    "        for i in reversed(range(len(self._entries))):\n",
    "            self._downheap(i)"
   ]
  },
  {
   "cell_type": "markdown",
   "metadata": {},
   "source": [
    "## Lambda functions\n",
    "Quick, readable functions with **no intent to reuse**."
   ]
  },
  {
   "cell_type": "markdown",
   "metadata": {},
   "source": [
    "### example 1: basic"
   ]
  },
  {
   "cell_type": "code",
   "execution_count": null,
   "metadata": {},
   "outputs": [
    {
     "name": "stdout",
     "output_type": "stream",
     "text": [
      "6\n"
     ]
    }
   ],
   "source": [
    "def add1(x,y):\n",
    "    return x+y\n",
    "\n",
    "print(add1(2,4))"
   ]
  },
  {
   "cell_type": "code",
   "execution_count": 4,
   "metadata": {},
   "outputs": [
    {
     "name": "stdout",
     "output_type": "stream",
     "text": [
      "6\n"
     ]
    }
   ],
   "source": [
    "add2 = lambda x,y: x+y\n",
    "\n",
    "print(add2(2,4))"
   ]
  },
  {
   "cell_type": "markdown",
   "metadata": {},
   "source": [
    "### example 2: sorting"
   ]
  },
  {
   "cell_type": "code",
   "execution_count": 8,
   "metadata": {},
   "outputs": [],
   "source": [
    "pairs = [(1, 2), (5, 0), (3, 1)]"
   ]
  },
  {
   "cell_type": "code",
   "execution_count": 9,
   "metadata": {},
   "outputs": [
    {
     "name": "stdout",
     "output_type": "stream",
     "text": [
      "[(5, 0), (3, 1), (1, 2)]\n"
     ]
    }
   ],
   "source": [
    "def index1(pair):\n",
    "    return pair[1]\n",
    "\n",
    "pairs.sort(key=index1)\n",
    "print(pairs)"
   ]
  },
  {
   "cell_type": "code",
   "execution_count": 10,
   "metadata": {},
   "outputs": [
    {
     "name": "stdout",
     "output_type": "stream",
     "text": [
      "[(5, 0), (3, 1), (1, 2)]\n"
     ]
    }
   ],
   "source": [
    "pairs.sort(key=lambda x: x[1])\n",
    "print(pairs)\n"
   ]
  },
  {
   "cell_type": "markdown",
   "metadata": {},
   "source": [
    "### example 3: conditional"
   ]
  },
  {
   "cell_type": "code",
   "execution_count": 13,
   "metadata": {},
   "outputs": [
    {
     "name": "stdout",
     "output_type": "stream",
     "text": [
      "odd\n"
     ]
    }
   ],
   "source": [
    "def check_even1(x):\n",
    "    if x % 2 == 0:\n",
    "        return \"even\"\n",
    "    else:\n",
    "        return \"odd\"\n",
    "\n",
    "print(check_even1(7))"
   ]
  },
  {
   "cell_type": "code",
   "execution_count": 14,
   "metadata": {},
   "outputs": [
    {
     "name": "stdout",
     "output_type": "stream",
     "text": [
      "odd\n"
     ]
    }
   ],
   "source": [
    "check_even2 = lambda x: \"even\" if x % 2 == 0 else \"odd\"\n",
    "print(check_even2(7))"
   ]
  },
  {
   "cell_type": "markdown",
   "metadata": {},
   "source": [
    "### example 4: application"
   ]
  },
  {
   "cell_type": "code",
   "execution_count": 16,
   "metadata": {},
   "outputs": [
    {
     "name": "stdout",
     "output_type": "stream",
     "text": [
      "      name  score grade\n",
      "0    Alice     85  Pass\n",
      "1      Bob     92  Pass\n",
      "2  Charlie     55  Fail\n"
     ]
    }
   ],
   "source": [
    "import pandas as pd\n",
    "\n",
    "df = pd.DataFrame({\n",
    "    'name': ['Alice', 'Bob', 'Charlie'],\n",
    "    'score': [85, 92, 55]\n",
    "})\n",
    "\n",
    "# Add a column based on a condition\n",
    "df['grade'] = df['score'].apply(lambda x: 'Pass' if x >= 60 else 'Fail')\n",
    "\n",
    "print(df)"
   ]
  }
 ],
 "metadata": {
  "kernelspec": {
   "display_name": "base",
   "language": "python",
   "name": "python3"
  },
  "language_info": {
   "codemirror_mode": {
    "name": "ipython",
    "version": 3
   },
   "file_extension": ".py",
   "mimetype": "text/x-python",
   "name": "python",
   "nbconvert_exporter": "python",
   "pygments_lexer": "ipython3",
   "version": "3.11.5"
  }
 },
 "nbformat": 4,
 "nbformat_minor": 2
}
