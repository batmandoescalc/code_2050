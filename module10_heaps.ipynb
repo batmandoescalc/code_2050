{
 "cells": [
  {
   "cell_type": "code",
   "execution_count": 1,
   "metadata": {},
   "outputs": [],
   "source": [
    "import time"
   ]
  },
  {
   "cell_type": "markdown",
   "metadata": {},
   "source": [
    "### Using Python Lists"
   ]
  },
  {
   "cell_type": "code",
   "execution_count": 1,
   "metadata": {},
   "outputs": [],
   "source": [
    "class ListPQ:\n",
    "    def __init__(self):\n",
    "        self._L = []\n",
    "    def insert(self, n):\n",
    "        self._L.append(n)\n",
    "    def peekMin(self):\n",
    "        return min(self._L)\n",
    "    def removeMin(self):\n",
    "        minNum = min(self._L)\n",
    "        self._L.remove(minNum)\n",
    "        return minNum"
   ]
  },
  {
   "cell_type": "code",
   "execution_count": null,
   "metadata": {},
   "outputs": [],
   "source": [
    "class SortedListPQ:\n",
    "    def __init__(self):\n",
    "        self._L = []\n",
    "    def insert(self, n):\n",
    "        self._L.append(n)\n",
    "        self._L.sort(reverse=True)\n",
    "    def peekMin(self):\n",
    "        return self._L[-1]\n",
    "    def removeMin(self):\n",
    "        minNum = self._L[-1]\n",
    "        self._L.pop()\n",
    "        return minNum"
   ]
  },
  {
   "cell_type": "markdown",
   "metadata": {},
   "source": [
    "### Using Heaps"
   ]
  },
  {
   "cell_type": "code",
   "execution_count": 2,
   "metadata": {},
   "outputs": [],
   "source": [
    "class Entry:\n",
    "    def __init__(self, item, priority):\n",
    "        self.priority = priority\n",
    "        self.item = item\n",
    "\n",
    "    def __lt__(self, other):\n",
    "        return self.priority < other.priority\n",
    "\n",
    "    def __repr__(self):\n",
    "        return f\"{self.item}\"\n",
    "\n",
    "class HeapPQ:\n",
    "    def __init__(self, L=None, heapify=\"down\"):\n",
    "        self._entries = L if L else []\n",
    "        if heapify == \"down\":\n",
    "            self._heapify_downheap()\n",
    "        elif heapify == \"up\":\n",
    "            self._heapify_upheap()\n",
    "\n",
    "    def __repr__(self):\n",
    "        return repr(self._entries)\n",
    "\n",
    "    def __len__(self):\n",
    "        \"\"\"Returns the number of entries in the heap.\"\"\"\n",
    "        return len(self._entries)\n",
    "\n",
    "    def _parent(self, i):\n",
    "        \"\"\"Returns the parent index for a given tree node index.\"\"\"\n",
    "        return (i - 1) // 2\n",
    "\n",
    "    def _left(self, i):\n",
    "        \"\"\"Returns the index of the root of the left child subtree for a given tree node index.\"\"\"\n",
    "        return 2*i + 1\n",
    "\n",
    "    def _right(self, i):\n",
    "        \"\"\"Returns the index of the root of the right child subtree for a given tree node index.\"\"\"\n",
    "        return 2*i + 2\n",
    "\n",
    "    def _children(self, i):\n",
    "        \"\"\"\n",
    "        Returns an iterable containing only the left and right child subtree root indices for a given index.\n",
    "        \"\"\"\n",
    "        left = self._left(i)\n",
    "        right = self._right(i)\n",
    "        return range(left, min(len(self), right + 1))\n",
    "\n",
    "    def _swap(self, i, j):\n",
    "        \"\"\"Swaps entries at indices i and j\"\"\"\n",
    "        L = self._entries\n",
    "        L[i], L[j] = L[j], L[i]\n",
    "\n",
    "    def _upheap(self, i):\n",
    "        \"\"\"Percolates entry at index i up the heap into its proper spot\"\"\"\n",
    "        L = self._entries\n",
    "        parent = self._parent(i)\n",
    "        if i > 0 and L[i] < L[parent]:\n",
    "            self._swap(i, parent)\n",
    "            self._upheap(parent)\n",
    "\n",
    "    def _downheap(self, i):\n",
    "        \"\"\"Percolates entry at index i down the heap into its proper spot\"\"\"\n",
    "        L = self._entries\n",
    "        children = self._children(i)\n",
    "        if children:\n",
    "            min_child = min(children, key=lambda x: L[x])\n",
    "            if L[i] > L[min_child]:\n",
    "                self._swap(i, min_child)\n",
    "                self._downheap(min_child)\n",
    "\n",
    "    def peekmin(self):\n",
    "        \"\"\"Returns the item in the heap with highest priority.\"\"\"\n",
    "        return self._entries[0].item\n",
    "\n",
    "    def removemin(self):\n",
    "        \"\"\"Returns the item in the heap with highest priority and removes it from the heap.\"\"\"\n",
    "        L = self._entries\n",
    "        item = L[0].item\n",
    "        L[0] = L[-1]\n",
    "        L.pop()\n",
    "        self._downheap(0)\n",
    "        return item\n",
    "\n",
    "    def insert(self, item, priority):\n",
    "        \"\"\"Creates entry for given item-priority combo and inserts n into the heap.\"\"\"\n",
    "        self._entries.append(Entry(item, priority))\n",
    "        self._upheap(len(self) - 1)\n",
    "\n",
    "    def _heapify_upheap(self):\n",
    "        \"\"\"Heap orders the array using only the upheap operation. O(n log(n)) running time.\"\"\"\n",
    "        for i in range(len(self._entries)):\n",
    "            self._upheap(i)\n",
    "\n",
    "    def _heapify_downheap(self):\n",
    "        \"\"\"Heap orders the array using only the downheap operation. O(n) running time.\"\"\"\n",
    "        for i in reversed(range(len(self._entries))):\n",
    "            self._downheap(i)"
   ]
  },
  {
   "cell_type": "code",
   "execution_count": null,
   "metadata": {},
   "outputs": [],
   "source": []
  }
 ],
 "metadata": {
  "kernelspec": {
   "display_name": "base",
   "language": "python",
   "name": "python3"
  },
  "language_info": {
   "codemirror_mode": {
    "name": "ipython",
    "version": 3
   },
   "file_extension": ".py",
   "mimetype": "text/x-python",
   "name": "python",
   "nbconvert_exporter": "python",
   "pygments_lexer": "ipython3",
   "version": "3.11.5"
  }
 },
 "nbformat": 4,
 "nbformat_minor": 2
}
