{
 "cells": [
  {
   "cell_type": "markdown",
   "metadata": {},
   "source": [
    "### Mapping via Python list"
   ]
  },
  {
   "cell_type": "code",
   "execution_count": null,
   "metadata": {},
   "outputs": [],
   "source": [
    "class Record:\n",
    "    def __init__(self, key, value):\n",
    "        self.key = key\n",
    "        self.value = value\n",
    "\n",
    "    def __repr__(self):\n",
    "        return f\"{self.key} : {self.value}\"\n"
   ]
  },
  {
   "cell_type": "code",
   "execution_count": null,
   "metadata": {},
   "outputs": [],
   "source": [
    "rec = Record(1, \"one\")\n",
    "rec"
   ]
  },
  {
   "cell_type": "code",
   "execution_count": 1,
   "metadata": {},
   "outputs": [],
   "source": [
    "class ListMapping:\n",
    "    def __init__(self):\n",
    "        self._buckets = []\n",
    "        self._len = 0\n",
    "\n",
    "    def __len__(self):\n",
    "        return self._len\n",
    "    \n",
    "    # find a record with specified key\n",
    "    def _record(self, k):\n",
    "        for rec in self._buckets:\n",
    "            if rec.key == k:\n",
    "                return rec\n",
    "    \n",
    "    def __setitem__(self, k, v):\n",
    "        rec = self._record(k)\n",
    "        if rec is not None:\n",
    "            rec.value = v\n",
    "        else:\n",
    "            self._buckets.append(Record(k,v))\n",
    "            self._len += 1\n",
    "\n",
    "    def __getitem__(self, k):\n",
    "        rec = self._record(k)\n",
    "        if rec is not None:\n",
    "            return rec.value\n",
    "        raise KeyError\n",
    "    \n",
    "    def __contains__(self, k):\n",
    "        return self._record(k) is not None\n",
    "    "
   ]
  },
  {
   "cell_type": "markdown",
   "metadata": {},
   "source": [
    "### Hash Mapping"
   ]
  },
  {
   "cell_type": "code",
   "execution_count": 2,
   "metadata": {},
   "outputs": [],
   "source": [
    "class Record:\n",
    "    def __init__(self, key, value):\n",
    "        self.key = key\n",
    "        self.value = value\n",
    "    \n",
    "    def __repr__(self):\n",
    "        return f\"{self.key} : {self.value}\"\n",
    "    \n",
    "    def __hash__(self):\n",
    "        return hash(self.key)"
   ]
  },
  {
   "cell_type": "code",
   "execution_count": 3,
   "metadata": {},
   "outputs": [],
   "source": [
    "class HashMap:\n",
    "    def __init__(self):\n",
    "        self._num_buckets = 8\n",
    "        self._buckets = [[] for i in range(self._num_buckets)]\n",
    "        self._len = 0\n",
    "\n",
    "    def __len__(self):\n",
    "        return self._len\n",
    "    \n",
    "    def __setitem__(self, k, v):\n",
    "        # find which bucket in which to put the k:v pair\n",
    "        bucket_index = hash(k) % self._num_buckets\n",
    "        bucket = self._buckets[bucket_index]\n",
    "        # check if key is in the bucket\n",
    "        for record in bucket:       \n",
    "            if record.key == k:     # found record with matching key\n",
    "                record.value = v    # update record value\n",
    "                return\n",
    "        # if key not found, create new record and increment length\n",
    "        bucket.append(Record(k,v))\n",
    "        self._len += 1\n",
    "\n",
    "    def __getitem__(self, k):\n",
    "        # find which bucket should contain the k:v pair\n",
    "        bucket_index = hash(k) % self._num_buckets\n",
    "        bucket = self._buckets[bucket_index]\n",
    "        # check for record with matching key\n",
    "        for record in bucket:\n",
    "            if record.key == k:\n",
    "                return record.value\n",
    "        # if no record with key found, raise KeyError\n",
    "        raise KeyError\n",
    "    \n",
    "    def __contains__(self, k):\n",
    "        # find which bucket should contain the k:v pair\n",
    "        bucket_index = hash(k) % self._num_buckets\n",
    "        bucket = self._buckets[bucket_index]\n",
    "        # check for record with matching key. If found, return True\n",
    "        for record in bucket:\n",
    "            if record.key == k:\n",
    "                return True\n",
    "        # if no record with key found, return False\n",
    "        return False\n",
    "    \n",
    "    def remove(self, k):\n",
    "        # find which bucket should contain the k:v pair\n",
    "        bucket_index = hash(k) % self._num_buckets\n",
    "        bucket = self._buckets[bucket_index]\n",
    "        # find record with matching key\n",
    "        record_to_delete = None\n",
    "        for record in bucket:\n",
    "            if record.key == k:\n",
    "                record_to_delete = record\n",
    "        # if no record with key k was found, raise KeyError\n",
    "        if record_to_delete is None:\n",
    "            raise KeyError\n",
    "        # otherwise remove record and decrement length\n",
    "        bucket.remove(record_to_delete)\n",
    "        self._len -= 1"
   ]
  },
  {
   "cell_type": "code",
   "execution_count": null,
   "metadata": {},
   "outputs": [],
   "source": []
  }
 ],
 "metadata": {
  "kernelspec": {
   "display_name": "base",
   "language": "python",
   "name": "python3"
  },
  "language_info": {
   "codemirror_mode": {
    "name": "ipython",
    "version": 3
   },
   "file_extension": ".py",
   "mimetype": "text/x-python",
   "name": "python",
   "nbconvert_exporter": "python",
   "pygments_lexer": "ipython3",
   "version": "3.11.5"
  }
 },
 "nbformat": 4,
 "nbformat_minor": 2
}
