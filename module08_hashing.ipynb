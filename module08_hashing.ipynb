{
 "cells": [
  {
   "cell_type": "code",
   "execution_count": null,
   "metadata": {},
   "outputs": [],
   "source": [
    "class Record:\n",
    "    def __init__(self, key, value):\n",
    "        self.key = key\n",
    "        self.value = value\n",
    "\n",
    "    def __repr__(self):\n",
    "        return f\"{self.key} : {self.value}\"\n"
   ]
  },
  {
   "cell_type": "code",
   "execution_count": null,
   "metadata": {},
   "outputs": [],
   "source": [
    "rec = Record(1, \"one\")\n",
    "rec"
   ]
  },
  {
   "cell_type": "code",
   "execution_count": null,
   "metadata": {},
   "outputs": [],
   "source": [
    "class ListMapping:\n",
    "    def __init__(self):\n",
    "        self._buckets = []\n",
    "        self._len = 0\n",
    "\n",
    "    def __len__(self):\n",
    "        return self._len\n",
    "    \n",
    "    # find a record with specified key\n",
    "    def _record(self, k):\n",
    "        for rec in self._buckets:\n",
    "            if rec.key == k:\n",
    "                return rec\n",
    "    \n",
    "    def __setitem__(self, k, v):\n",
    "        rec = self._record(k)\n",
    "        if rec is not None:\n",
    "            rec.value = v\n",
    "        else:\n",
    "            self._buckets.append(Record(k,v))\n",
    "            self._len += 1\n",
    "\n",
    "    def __getitem__(self, k):\n",
    "        rec = self._record(k)\n",
    "        if rec is not None:\n",
    "            rec.value = v\n",
    "        raise KeyError\n",
    "    \n",
    "    def __contains__(self, k):\n",
    "        return self._record(k) is not None"
   ]
  }
 ],
 "metadata": {
  "kernelspec": {
   "display_name": "base",
   "language": "python",
   "name": "python3"
  },
  "language_info": {
   "codemirror_mode": {
    "name": "ipython",
    "version": 3
   },
   "file_extension": ".py",
   "mimetype": "text/x-python",
   "name": "python",
   "nbconvert_exporter": "python",
   "pygments_lexer": "ipython3",
   "version": "3.11.5"
  }
 },
 "nbformat": 4,
 "nbformat_minor": 2
}
