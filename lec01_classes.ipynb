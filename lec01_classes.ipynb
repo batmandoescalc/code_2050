{
 "cells": [
  {
   "cell_type": "code",
   "execution_count": null,
   "metadata": {},
   "outputs": [],
   "source": [
    "# for each mascot record, list its name, breed, and participating events\n",
    "jonathan = [\"Jonathan\", \"husky\", \"mbb_butler_0121\", \"wbb_villanova_0122\", \"mhockey_quinnipiac_0124\"]"
   ]
  },
  {
   "cell_type": "code",
   "execution_count": 4,
   "metadata": {},
   "outputs": [],
   "source": [
    "def get_name(mascot):\n",
    "    return mascot[0]\n",
    "def get_breed(mascot):\n",
    "    return mascot[1]\n",
    "def get_events(mascot):\n",
    "    return mascot[2:]"
   ]
  },
  {
   "cell_type": "code",
   "execution_count": 5,
   "metadata": {},
   "outputs": [],
   "source": [
    "# do these functions work?\n",
    "\n"
   ]
  },
  {
   "cell_type": "code",
   "execution_count": 1,
   "metadata": {},
   "outputs": [],
   "source": [
    "# let's add fields for school colors\n",
    "jonathan = [\"Jonathan\", \"husky\", \"blue\", \"white\", \"mbb_butler_0121\", \"wbb_villanova_0122\", \"mhockey_quinnipiac_0124\"]"
   ]
  },
  {
   "cell_type": "code",
   "execution_count": null,
   "metadata": {},
   "outputs": [],
   "source": []
  },
  {
   "cell_type": "code",
   "execution_count": null,
   "metadata": {},
   "outputs": [],
   "source": []
  },
  {
   "cell_type": "code",
   "execution_count": 3,
   "metadata": {},
   "outputs": [
    {
     "name": "stdout",
     "output_type": "stream",
     "text": [
      "called father's method\n"
     ]
    }
   ],
   "source": [
    "class mother:\n",
    "    def my_method(self):\n",
    "        print(\"called mother's method\")\n",
    "\n",
    "class father:\n",
    "    def my_method(self):\n",
    "        print(\"called father's method\")  \n",
    "\n",
    "class child(father, mother):\n",
    "    pass\n",
    "\n",
    "child1=child()\n",
    "child1.my_method()"
   ]
  },
  {
   "cell_type": "code",
   "execution_count": null,
   "metadata": {},
   "outputs": [],
   "source": []
  }
 ],
 "metadata": {
  "kernelspec": {
   "display_name": "base",
   "language": "python",
   "name": "python3"
  },
  "language_info": {
   "codemirror_mode": {
    "name": "ipython",
    "version": 3
   },
   "file_extension": ".py",
   "mimetype": "text/x-python",
   "name": "python",
   "nbconvert_exporter": "python",
   "pygments_lexer": "ipython3",
   "version": "3.11.5"
  }
 },
 "nbformat": 4,
 "nbformat_minor": 2
}
