{
 "cells": [
  {
   "cell_type": "code",
   "execution_count": 7,
   "metadata": {},
   "outputs": [],
   "source": [
    "# for each mascot record, list its name, description, and participating events\n",
    "jonathan = [\"Jonathan\", \"husky\", \"mbb_butler_0121\", \"wbb_villanova_0122\", \"mhockey_quinnipiac_0124\"]\n",
    "\n",
    "def get_name(mascot):\n",
    "    return mascot[0]\n",
    "def description(mascot):\n",
    "    return mascot[1]\n",
    "def get_events(mascot):\n",
    "    return mascot[2:]"
   ]
  },
  {
   "cell_type": "code",
   "execution_count": 4,
   "metadata": {},
   "outputs": [],
   "source": [
    "# do these functions work?"
   ]
  },
  {
   "cell_type": "code",
   "execution_count": 8,
   "metadata": {},
   "outputs": [],
   "source": [
    "# let's add fields for school colors\n",
    "jonathan = [\"Jonathan\", \"husky\", \"blue\", \"white\", \n",
    "            \"mbb_butler_0121\", \"wbb_villanova_0122\", \"mhockey_quinnipiac_0124\"]\n",
    "\n",
    "def get_name(mascot):\n",
    "    return mascot[0]\n",
    "def description(mascot):\n",
    "    return mascot[1]\n",
    "def get_events(mascot):\n",
    "    return mascot[2:]"
   ]
  },
  {
   "cell_type": "code",
   "execution_count": 12,
   "metadata": {},
   "outputs": [],
   "source": [
    "class mascot:\n",
    "    def __init__(self, name, description, colors=(), events=()):\n",
    "        self.name = name\n",
    "        self.description = description\n",
    "        self.colors = [i for i in colors]\n",
    "        self._events = [i for i in events]"
   ]
  },
  {
   "cell_type": "code",
   "execution_count": 14,
   "metadata": {},
   "outputs": [
    {
     "name": "stdout",
     "output_type": "stream",
     "text": [
      "Jonathan\n",
      "husky\n",
      "['blue', 'white']\n",
      "['mbb_butler_0121', 'wbb_villanova_0122', 'mhockey_quinnipiac_0124']\n"
     ]
    }
   ],
   "source": [
    "jonathan = mascot(\"Jonathan\", \"husky\", [\"blue\", \"white\"], \n",
    "            [\"mbb_butler_0121\", \"wbb_villanova_0122\", \"mhockey_quinnipiac_0124\"])\n",
    "\n",
    "print(jonathan.name)\n",
    "print(jonathan.description)\n",
    "print(jonathan.colors)\n",
    "print(jonathan._events)\n"
   ]
  },
  {
   "cell_type": "code",
   "execution_count": 15,
   "metadata": {},
   "outputs": [
    {
     "name": "stdout",
     "output_type": "stream",
     "text": [
      "<__main__.mascot object at 0x1117c37d0>\n"
     ]
    }
   ],
   "source": [
    "jonathan = mascot(\"Jonathan\", \"husky\", [\"blue\", \"white\"], \n",
    "            [\"mbb_butler_0121\", \"wbb_villanova_0122\", \"mhockey_quinnipiac_0124\"])\n",
    "\n",
    "print(jonathan)"
   ]
  },
  {
   "cell_type": "code",
   "execution_count": 16,
   "metadata": {},
   "outputs": [],
   "source": [
    "class mascot:\n",
    "    def __init__(self, name, description, colors=(), events=()):\n",
    "        self.name = name\n",
    "        self.description = description\n",
    "        self.colors = [i for i in colors]\n",
    "        self._events = [i for i in events]\n",
    "    def __str__(self):\n",
    "        return f\"Mascot: {self.name} the {self.description}\""
   ]
  },
  {
   "cell_type": "code",
   "execution_count": 17,
   "metadata": {},
   "outputs": [
    {
     "name": "stdout",
     "output_type": "stream",
     "text": [
      "Mascot: Jonathan the husky\n"
     ]
    }
   ],
   "source": [
    "jonathan = mascot(\"Jonathan\", \"husky\", [\"blue\", \"white\"], \n",
    "            [\"mbb_butler_0121\", \"wbb_villanova_0122\", \"mhockey_quinnipiac_0124\"])\n",
    "\n",
    "print(jonathan)"
   ]
  },
  {
   "cell_type": "code",
   "execution_count": 3,
   "metadata": {},
   "outputs": [
    {
     "name": "stdout",
     "output_type": "stream",
     "text": [
      "called father's method\n"
     ]
    }
   ],
   "source": [
    "class mother:\n",
    "    def my_method(self):\n",
    "        print(\"called mother's method\")\n",
    "\n",
    "class father:\n",
    "    def my_method(self):\n",
    "        print(\"called father's method\")  \n",
    "\n",
    "class child(father, mother):\n",
    "    pass\n",
    "\n",
    "child1=child()\n",
    "child1.my_method()"
   ]
  },
  {
   "cell_type": "code",
   "execution_count": null,
   "metadata": {},
   "outputs": [],
   "source": []
  }
 ],
 "metadata": {
  "kernelspec": {
   "display_name": "base",
   "language": "python",
   "name": "python3"
  },
  "language_info": {
   "codemirror_mode": {
    "name": "ipython",
    "version": 3
   },
   "file_extension": ".py",
   "mimetype": "text/x-python",
   "name": "python",
   "nbconvert_exporter": "python",
   "pygments_lexer": "ipython3",
   "version": "3.11.5"
  }
 },
 "nbformat": 4,
 "nbformat_minor": 2
}
